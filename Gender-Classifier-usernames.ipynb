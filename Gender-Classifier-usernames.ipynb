{
 "nbformat": 4,
 "nbformat_minor": 0,
 "metadata": {
  "kernelspec": {
   "display_name": "Python 3",
   "language": "python",
   "name": "python3"
  },
  "language_info": {
   "codemirror_mode": {
    "name": "ipython",
    "version": 2
   },
   "file_extension": ".py",
   "mimetype": "text/x-python",
   "name": "python",
   "nbconvert_exporter": "python",
   "pygments_lexer": "ipython2",
   "version": "2.7.6"
  },
  "colab": {
   "name": "Passwords Complexity Differences by Gender",
   "provenance": [],
   "collapsed_sections": [],
   "toc_visible": true
  },
  "widgets": {
   "application/vnd.jupyter.widget-state+json": {
    "992f8076319849f88d2d9f814e004d57": {
     "model_module": "@jupyter-widgets/controls",
     "model_name": "HBoxModel",
     "state": {
      "_view_name": "HBoxView",
      "_dom_classes": [],
      "_model_name": "HBoxModel",
      "_view_module": "@jupyter-widgets/controls",
      "_model_module_version": "1.5.0",
      "_view_count": null,
      "_view_module_version": "1.5.0",
      "box_style": "",
      "layout": "IPY_MODEL_b3d37a519f444ee39d16ddb7746862a5",
      "_model_module": "@jupyter-widgets/controls",
      "children": [
       "IPY_MODEL_e74399e1bd5d4a93ba1c1f1446629745",
       "IPY_MODEL_946a23178a0e497c9fe6ab39ca9a7651"
      ]
     }
    },
    "b3d37a519f444ee39d16ddb7746862a5": {
     "model_module": "@jupyter-widgets/base",
     "model_name": "LayoutModel",
     "state": {
      "_view_name": "LayoutView",
      "grid_template_rows": null,
      "right": null,
      "justify_content": null,
      "_view_module": "@jupyter-widgets/base",
      "overflow": null,
      "_model_module_version": "1.2.0",
      "_view_count": null,
      "flex_flow": null,
      "width": null,
      "min_width": null,
      "border": null,
      "align_items": null,
      "bottom": null,
      "_model_module": "@jupyter-widgets/base",
      "top": null,
      "grid_column": null,
      "overflow_y": null,
      "overflow_x": null,
      "grid_auto_flow": null,
      "grid_area": null,
      "grid_template_columns": null,
      "flex": null,
      "_model_name": "LayoutModel",
      "justify_items": null,
      "grid_row": null,
      "max_height": null,
      "align_content": null,
      "visibility": null,
      "align_self": null,
      "height": null,
      "min_height": null,
      "padding": null,
      "grid_auto_rows": null,
      "grid_gap": null,
      "max_width": null,
      "order": null,
      "_view_module_version": "1.2.0",
      "grid_template_areas": null,
      "object_position": null,
      "object_fit": null,
      "grid_auto_columns": null,
      "margin": null,
      "display": null,
      "left": null
     }
    },
    "e74399e1bd5d4a93ba1c1f1446629745": {
     "model_module": "@jupyter-widgets/controls",
     "model_name": "FloatProgressModel",
     "state": {
      "_view_name": "ProgressView",
      "style": "IPY_MODEL_e6d7c9605be540bb90624cf92ccfa978",
      "_dom_classes": [],
      "description": "100%",
      "_model_name": "FloatProgressModel",
      "bar_style": "success",
      "max": 48648,
      "_view_module": "@jupyter-widgets/controls",
      "_model_module_version": "1.5.0",
      "value": 48648,
      "_view_count": null,
      "_view_module_version": "1.5.0",
      "orientation": "horizontal",
      "min": 0,
      "description_tooltip": null,
      "_model_module": "@jupyter-widgets/controls",
      "layout": "IPY_MODEL_8b3bcd12b77140c3b2c5585d79804a27"
     }
    },
    "946a23178a0e497c9fe6ab39ca9a7651": {
     "model_module": "@jupyter-widgets/controls",
     "model_name": "HTMLModel",
     "state": {
      "_view_name": "HTMLView",
      "style": "IPY_MODEL_f19ece1560314e14990f9791e94b0fd5",
      "_dom_classes": [],
      "description": "",
      "_model_name": "HTMLModel",
      "placeholder": "​",
      "_view_module": "@jupyter-widgets/controls",
      "_model_module_version": "1.5.0",
      "value": " 48648/48648 [17:14&lt;00:00, 47.01it/s]",
      "_view_count": null,
      "_view_module_version": "1.5.0",
      "description_tooltip": null,
      "_model_module": "@jupyter-widgets/controls",
      "layout": "IPY_MODEL_339b9a95d4b14e53b2121ec2770da033"
     }
    },
    "e6d7c9605be540bb90624cf92ccfa978": {
     "model_module": "@jupyter-widgets/controls",
     "model_name": "ProgressStyleModel",
     "state": {
      "_view_name": "StyleView",
      "_model_name": "ProgressStyleModel",
      "description_width": "initial",
      "_view_module": "@jupyter-widgets/base",
      "_model_module_version": "1.5.0",
      "_view_count": null,
      "_view_module_version": "1.2.0",
      "bar_color": null,
      "_model_module": "@jupyter-widgets/controls"
     }
    },
    "8b3bcd12b77140c3b2c5585d79804a27": {
     "model_module": "@jupyter-widgets/base",
     "model_name": "LayoutModel",
     "state": {
      "_view_name": "LayoutView",
      "grid_template_rows": null,
      "right": null,
      "justify_content": null,
      "_view_module": "@jupyter-widgets/base",
      "overflow": null,
      "_model_module_version": "1.2.0",
      "_view_count": null,
      "flex_flow": null,
      "width": null,
      "min_width": null,
      "border": null,
      "align_items": null,
      "bottom": null,
      "_model_module": "@jupyter-widgets/base",
      "top": null,
      "grid_column": null,
      "overflow_y": null,
      "overflow_x": null,
      "grid_auto_flow": null,
      "grid_area": null,
      "grid_template_columns": null,
      "flex": null,
      "_model_name": "LayoutModel",
      "justify_items": null,
      "grid_row": null,
      "max_height": null,
      "align_content": null,
      "visibility": null,
      "align_self": null,
      "height": null,
      "min_height": null,
      "padding": null,
      "grid_auto_rows": null,
      "grid_gap": null,
      "max_width": null,
      "order": null,
      "_view_module_version": "1.2.0",
      "grid_template_areas": null,
      "object_position": null,
      "object_fit": null,
      "grid_auto_columns": null,
      "margin": null,
      "display": null,
      "left": null
     }
    },
    "f19ece1560314e14990f9791e94b0fd5": {
     "model_module": "@jupyter-widgets/controls",
     "model_name": "DescriptionStyleModel",
     "state": {
      "_view_name": "StyleView",
      "_model_name": "DescriptionStyleModel",
      "description_width": "",
      "_view_module": "@jupyter-widgets/base",
      "_model_module_version": "1.5.0",
      "_view_count": null,
      "_view_module_version": "1.2.0",
      "_model_module": "@jupyter-widgets/controls"
     }
    },
    "339b9a95d4b14e53b2121ec2770da033": {
     "model_module": "@jupyter-widgets/base",
     "model_name": "LayoutModel",
     "state": {
      "_view_name": "LayoutView",
      "grid_template_rows": null,
      "right": null,
      "justify_content": null,
      "_view_module": "@jupyter-widgets/base",
      "overflow": null,
      "_model_module_version": "1.2.0",
      "_view_count": null,
      "flex_flow": null,
      "width": null,
      "min_width": null,
      "border": null,
      "align_items": null,
      "bottom": null,
      "_model_module": "@jupyter-widgets/base",
      "top": null,
      "grid_column": null,
      "overflow_y": null,
      "overflow_x": null,
      "grid_auto_flow": null,
      "grid_area": null,
      "grid_template_columns": null,
      "flex": null,
      "_model_name": "LayoutModel",
      "justify_items": null,
      "grid_row": null,
      "max_height": null,
      "align_content": null,
      "visibility": null,
      "align_self": null,
      "height": null,
      "min_height": null,
      "padding": null,
      "grid_auto_rows": null,
      "grid_gap": null,
      "max_width": null,
      "order": null,
      "_view_module_version": "1.2.0",
      "grid_template_areas": null,
      "object_position": null,
      "object_fit": null,
      "grid_auto_columns": null,
      "margin": null,
      "display": null,
      "left": null
     }
    },
    "d6080009f0e243ca8c285e4381323335": {
     "model_module": "@jupyter-widgets/controls",
     "model_name": "HBoxModel",
     "state": {
      "_view_name": "HBoxView",
      "_dom_classes": [],
      "_model_name": "HBoxModel",
      "_view_module": "@jupyter-widgets/controls",
      "_model_module_version": "1.5.0",
      "_view_count": null,
      "_view_module_version": "1.5.0",
      "box_style": "",
      "layout": "IPY_MODEL_4ecc3395f7a146faa754ecdc305dacd5",
      "_model_module": "@jupyter-widgets/controls",
      "children": [
       "IPY_MODEL_e250e23b73f24f4dbff7a2ed61b1a182",
       "IPY_MODEL_9c07f268bf164c808e1a7f47f96a7d8d"
      ]
     }
    },
    "4ecc3395f7a146faa754ecdc305dacd5": {
     "model_module": "@jupyter-widgets/base",
     "model_name": "LayoutModel",
     "state": {
      "_view_name": "LayoutView",
      "grid_template_rows": null,
      "right": null,
      "justify_content": null,
      "_view_module": "@jupyter-widgets/base",
      "overflow": null,
      "_model_module_version": "1.2.0",
      "_view_count": null,
      "flex_flow": null,
      "width": null,
      "min_width": null,
      "border": null,
      "align_items": null,
      "bottom": null,
      "_model_module": "@jupyter-widgets/base",
      "top": null,
      "grid_column": null,
      "overflow_y": null,
      "overflow_x": null,
      "grid_auto_flow": null,
      "grid_area": null,
      "grid_template_columns": null,
      "flex": null,
      "_model_name": "LayoutModel",
      "justify_items": null,
      "grid_row": null,
      "max_height": null,
      "align_content": null,
      "visibility": null,
      "align_self": null,
      "height": null,
      "min_height": null,
      "padding": null,
      "grid_auto_rows": null,
      "grid_gap": null,
      "max_width": null,
      "order": null,
      "_view_module_version": "1.2.0",
      "grid_template_areas": null,
      "object_position": null,
      "object_fit": null,
      "grid_auto_columns": null,
      "margin": null,
      "display": null,
      "left": null
     }
    },
    "e250e23b73f24f4dbff7a2ed61b1a182": {
     "model_module": "@jupyter-widgets/controls",
     "model_name": "FloatProgressModel",
     "state": {
      "_view_name": "ProgressView",
      "style": "IPY_MODEL_c7bf44e4f63649fe906df55637220d1e",
      "_dom_classes": [],
      "description": "100%",
      "_model_name": "FloatProgressModel",
      "bar_style": "success",
      "max": 10,
      "_view_module": "@jupyter-widgets/controls",
      "_model_module_version": "1.5.0",
      "value": 10,
      "_view_count": null,
      "_view_module_version": "1.5.0",
      "orientation": "horizontal",
      "min": 0,
      "description_tooltip": null,
      "_model_module": "@jupyter-widgets/controls",
      "layout": "IPY_MODEL_eb24bab45a3046379c0c813cd6d21b5e"
     }
    },
    "9c07f268bf164c808e1a7f47f96a7d8d": {
     "model_module": "@jupyter-widgets/controls",
     "model_name": "HTMLModel",
     "state": {
      "_view_name": "HTMLView",
      "style": "IPY_MODEL_f57a9fa141fe4b0e92e822bbeedad27d",
      "_dom_classes": [],
      "description": "",
      "_model_name": "HTMLModel",
      "placeholder": "​",
      "_view_module": "@jupyter-widgets/controls",
      "_model_module_version": "1.5.0",
      "value": " 10/10 [04:59&lt;00:00, 29.97s/it]",
      "_view_count": null,
      "_view_module_version": "1.5.0",
      "description_tooltip": null,
      "_model_module": "@jupyter-widgets/controls",
      "layout": "IPY_MODEL_fc543cb172db493583512aea7c9f1c01"
     }
    },
    "c7bf44e4f63649fe906df55637220d1e": {
     "model_module": "@jupyter-widgets/controls",
     "model_name": "ProgressStyleModel",
     "state": {
      "_view_name": "StyleView",
      "_model_name": "ProgressStyleModel",
      "description_width": "initial",
      "_view_module": "@jupyter-widgets/base",
      "_model_module_version": "1.5.0",
      "_view_count": null,
      "_view_module_version": "1.2.0",
      "bar_color": null,
      "_model_module": "@jupyter-widgets/controls"
     }
    },
    "eb24bab45a3046379c0c813cd6d21b5e": {
     "model_module": "@jupyter-widgets/base",
     "model_name": "LayoutModel",
     "state": {
      "_view_name": "LayoutView",
      "grid_template_rows": null,
      "right": null,
      "justify_content": null,
      "_view_module": "@jupyter-widgets/base",
      "overflow": null,
      "_model_module_version": "1.2.0",
      "_view_count": null,
      "flex_flow": null,
      "width": null,
      "min_width": null,
      "border": null,
      "align_items": null,
      "bottom": null,
      "_model_module": "@jupyter-widgets/base",
      "top": null,
      "grid_column": null,
      "overflow_y": null,
      "overflow_x": null,
      "grid_auto_flow": null,
      "grid_area": null,
      "grid_template_columns": null,
      "flex": null,
      "_model_name": "LayoutModel",
      "justify_items": null,
      "grid_row": null,
      "max_height": null,
      "align_content": null,
      "visibility": null,
      "align_self": null,
      "height": null,
      "min_height": null,
      "padding": null,
      "grid_auto_rows": null,
      "grid_gap": null,
      "max_width": null,
      "order": null,
      "_view_module_version": "1.2.0",
      "grid_template_areas": null,
      "object_position": null,
      "object_fit": null,
      "grid_auto_columns": null,
      "margin": null,
      "display": null,
      "left": null
     }
    },
    "f57a9fa141fe4b0e92e822bbeedad27d": {
     "model_module": "@jupyter-widgets/controls",
     "model_name": "DescriptionStyleModel",
     "state": {
      "_view_name": "StyleView",
      "_model_name": "DescriptionStyleModel",
      "description_width": "",
      "_view_module": "@jupyter-widgets/base",
      "_model_module_version": "1.5.0",
      "_view_count": null,
      "_view_module_version": "1.2.0",
      "_model_module": "@jupyter-widgets/controls"
     }
    },
    "fc543cb172db493583512aea7c9f1c01": {
     "model_module": "@jupyter-widgets/base",
     "model_name": "LayoutModel",
     "state": {
      "_view_name": "LayoutView",
      "grid_template_rows": null,
      "right": null,
      "justify_content": null,
      "_view_module": "@jupyter-widgets/base",
      "overflow": null,
      "_model_module_version": "1.2.0",
      "_view_count": null,
      "flex_flow": null,
      "width": null,
      "min_width": null,
      "border": null,
      "align_items": null,
      "bottom": null,
      "_model_module": "@jupyter-widgets/base",
      "top": null,
      "grid_column": null,
      "overflow_y": null,
      "overflow_x": null,
      "grid_auto_flow": null,
      "grid_area": null,
      "grid_template_columns": null,
      "flex": null,
      "_model_name": "LayoutModel",
      "justify_items": null,
      "grid_row": null,
      "max_height": null,
      "align_content": null,
      "visibility": null,
      "align_self": null,
      "height": null,
      "min_height": null,
      "padding": null,
      "grid_auto_rows": null,
      "grid_gap": null,
      "max_width": null,
      "order": null,
      "_view_module_version": "1.2.0",
      "grid_template_areas": null,
      "object_position": null,
      "object_fit": null,
      "grid_auto_columns": null,
      "margin": null,
      "display": null,
      "left": null
     }
    },
    "ee3fee5f06034b949e9c6f897ec128f1": {
     "model_module": "@jupyter-widgets/controls",
     "model_name": "HBoxModel",
     "state": {
      "_view_name": "HBoxView",
      "_dom_classes": [],
      "_model_name": "HBoxModel",
      "_view_module": "@jupyter-widgets/controls",
      "_model_module_version": "1.5.0",
      "_view_count": null,
      "_view_module_version": "1.5.0",
      "box_style": "",
      "layout": "IPY_MODEL_56897359fc6b492ab9d97c7fd2ea5830",
      "_model_module": "@jupyter-widgets/controls",
      "children": [
       "IPY_MODEL_609b6a0028f246f69504f9259c18d912",
       "IPY_MODEL_0dace937bbb646daa517fe658f48f927"
      ]
     }
    },
    "56897359fc6b492ab9d97c7fd2ea5830": {
     "model_module": "@jupyter-widgets/base",
     "model_name": "LayoutModel",
     "state": {
      "_view_name": "LayoutView",
      "grid_template_rows": null,
      "right": null,
      "justify_content": null,
      "_view_module": "@jupyter-widgets/base",
      "overflow": null,
      "_model_module_version": "1.2.0",
      "_view_count": null,
      "flex_flow": null,
      "width": null,
      "min_width": null,
      "border": null,
      "align_items": null,
      "bottom": null,
      "_model_module": "@jupyter-widgets/base",
      "top": null,
      "grid_column": null,
      "overflow_y": null,
      "overflow_x": null,
      "grid_auto_flow": null,
      "grid_area": null,
      "grid_template_columns": null,
      "flex": null,
      "_model_name": "LayoutModel",
      "justify_items": null,
      "grid_row": null,
      "max_height": null,
      "align_content": null,
      "visibility": null,
      "align_self": null,
      "height": null,
      "min_height": null,
      "padding": null,
      "grid_auto_rows": null,
      "grid_gap": null,
      "max_width": null,
      "order": null,
      "_view_module_version": "1.2.0",
      "grid_template_areas": null,
      "object_position": null,
      "object_fit": null,
      "grid_auto_columns": null,
      "margin": null,
      "display": null,
      "left": null
     }
    },
    "609b6a0028f246f69504f9259c18d912": {
     "model_module": "@jupyter-widgets/controls",
     "model_name": "FloatProgressModel",
     "state": {
      "_view_name": "ProgressView",
      "style": "IPY_MODEL_490c59ec2dc54be392577901ec47d9de",
      "_dom_classes": [],
      "description": "100%",
      "_model_name": "FloatProgressModel",
      "bar_style": "success",
      "max": 10,
      "_view_module": "@jupyter-widgets/controls",
      "_model_module_version": "1.5.0",
      "value": 10,
      "_view_count": null,
      "_view_module_version": "1.5.0",
      "orientation": "horizontal",
      "min": 0,
      "description_tooltip": null,
      "_model_module": "@jupyter-widgets/controls",
      "layout": "IPY_MODEL_e6f7092456fb4c9ea9801d4f81bf20ac"
     }
    },
    "0dace937bbb646daa517fe658f48f927": {
     "model_module": "@jupyter-widgets/controls",
     "model_name": "HTMLModel",
     "state": {
      "_view_name": "HTMLView",
      "style": "IPY_MODEL_56e354102dfb49199c4e789d2f020837",
      "_dom_classes": [],
      "description": "",
      "_model_name": "HTMLModel",
      "placeholder": "​",
      "_view_module": "@jupyter-widgets/controls",
      "_model_module_version": "1.5.0",
      "value": " 10/10 [07:35&lt;00:00, 45.53s/it]",
      "_view_count": null,
      "_view_module_version": "1.5.0",
      "description_tooltip": null,
      "_model_module": "@jupyter-widgets/controls",
      "layout": "IPY_MODEL_a17c07be1ded4a77a0f616fbd2a595ee"
     }
    },
    "490c59ec2dc54be392577901ec47d9de": {
     "model_module": "@jupyter-widgets/controls",
     "model_name": "ProgressStyleModel",
     "state": {
      "_view_name": "StyleView",
      "_model_name": "ProgressStyleModel",
      "description_width": "initial",
      "_view_module": "@jupyter-widgets/base",
      "_model_module_version": "1.5.0",
      "_view_count": null,
      "_view_module_version": "1.2.0",
      "bar_color": null,
      "_model_module": "@jupyter-widgets/controls"
     }
    },
    "e6f7092456fb4c9ea9801d4f81bf20ac": {
     "model_module": "@jupyter-widgets/base",
     "model_name": "LayoutModel",
     "state": {
      "_view_name": "LayoutView",
      "grid_template_rows": null,
      "right": null,
      "justify_content": null,
      "_view_module": "@jupyter-widgets/base",
      "overflow": null,
      "_model_module_version": "1.2.0",
      "_view_count": null,
      "flex_flow": null,
      "width": null,
      "min_width": null,
      "border": null,
      "align_items": null,
      "bottom": null,
      "_model_module": "@jupyter-widgets/base",
      "top": null,
      "grid_column": null,
      "overflow_y": null,
      "overflow_x": null,
      "grid_auto_flow": null,
      "grid_area": null,
      "grid_template_columns": null,
      "flex": null,
      "_model_name": "LayoutModel",
      "justify_items": null,
      "grid_row": null,
      "max_height": null,
      "align_content": null,
      "visibility": null,
      "align_self": null,
      "height": null,
      "min_height": null,
      "padding": null,
      "grid_auto_rows": null,
      "grid_gap": null,
      "max_width": null,
      "order": null,
      "_view_module_version": "1.2.0",
      "grid_template_areas": null,
      "object_position": null,
      "object_fit": null,
      "grid_auto_columns": null,
      "margin": null,
      "display": null,
      "left": null
     }
    },
    "56e354102dfb49199c4e789d2f020837": {
     "model_module": "@jupyter-widgets/controls",
     "model_name": "DescriptionStyleModel",
     "state": {
      "_view_name": "StyleView",
      "_model_name": "DescriptionStyleModel",
      "description_width": "",
      "_view_module": "@jupyter-widgets/base",
      "_model_module_version": "1.5.0",
      "_view_count": null,
      "_view_module_version": "1.2.0",
      "_model_module": "@jupyter-widgets/controls"
     }
    },
    "a17c07be1ded4a77a0f616fbd2a595ee": {
     "model_module": "@jupyter-widgets/base",
     "model_name": "LayoutModel",
     "state": {
      "_view_name": "LayoutView",
      "grid_template_rows": null,
      "right": null,
      "justify_content": null,
      "_view_module": "@jupyter-widgets/base",
      "overflow": null,
      "_model_module_version": "1.2.0",
      "_view_count": null,
      "flex_flow": null,
      "width": null,
      "min_width": null,
      "border": null,
      "align_items": null,
      "bottom": null,
      "_model_module": "@jupyter-widgets/base",
      "top": null,
      "grid_column": null,
      "overflow_y": null,
      "overflow_x": null,
      "grid_auto_flow": null,
      "grid_area": null,
      "grid_template_columns": null,
      "flex": null,
      "_model_name": "LayoutModel",
      "justify_items": null,
      "grid_row": null,
      "max_height": null,
      "align_content": null,
      "visibility": null,
      "align_self": null,
      "height": null,
      "min_height": null,
      "padding": null,
      "grid_auto_rows": null,
      "grid_gap": null,
      "max_width": null,
      "order": null,
      "_view_module_version": "1.2.0",
      "grid_template_areas": null,
      "object_position": null,
      "object_fit": null,
      "grid_auto_columns": null,
      "margin": null,
      "display": null,
      "left": null
     }
    },
    "707d510d779c4161921663880673dabe": {
     "model_module": "@jupyter-widgets/controls",
     "model_name": "HBoxModel",
     "state": {
      "_view_name": "HBoxView",
      "_dom_classes": [],
      "_model_name": "HBoxModel",
      "_view_module": "@jupyter-widgets/controls",
      "_model_module_version": "1.5.0",
      "_view_count": null,
      "_view_module_version": "1.5.0",
      "box_style": "",
      "layout": "IPY_MODEL_1a72e0c42a274b1dbcea8ada9dd87c4a",
      "_model_module": "@jupyter-widgets/controls",
      "children": [
       "IPY_MODEL_37eb1b0b37114b4885d3c7c38746e7b8",
       "IPY_MODEL_d33d7af1b4454d0cbd3f5898c8fd35e9"
      ]
     }
    },
    "1a72e0c42a274b1dbcea8ada9dd87c4a": {
     "model_module": "@jupyter-widgets/base",
     "model_name": "LayoutModel",
     "state": {
      "_view_name": "LayoutView",
      "grid_template_rows": null,
      "right": null,
      "justify_content": null,
      "_view_module": "@jupyter-widgets/base",
      "overflow": null,
      "_model_module_version": "1.2.0",
      "_view_count": null,
      "flex_flow": null,
      "width": null,
      "min_width": null,
      "border": null,
      "align_items": null,
      "bottom": null,
      "_model_module": "@jupyter-widgets/base",
      "top": null,
      "grid_column": null,
      "overflow_y": null,
      "overflow_x": null,
      "grid_auto_flow": null,
      "grid_area": null,
      "grid_template_columns": null,
      "flex": null,
      "_model_name": "LayoutModel",
      "justify_items": null,
      "grid_row": null,
      "max_height": null,
      "align_content": null,
      "visibility": null,
      "align_self": null,
      "height": null,
      "min_height": null,
      "padding": null,
      "grid_auto_rows": null,
      "grid_gap": null,
      "max_width": null,
      "order": null,
      "_view_module_version": "1.2.0",
      "grid_template_areas": null,
      "object_position": null,
      "object_fit": null,
      "grid_auto_columns": null,
      "margin": null,
      "display": null,
      "left": null
     }
    },
    "37eb1b0b37114b4885d3c7c38746e7b8": {
     "model_module": "@jupyter-widgets/controls",
     "model_name": "FloatProgressModel",
     "state": {
      "_view_name": "ProgressView",
      "style": "IPY_MODEL_fff86ad7d58446ab99ca08375b84cb2c",
      "_dom_classes": [],
      "description": "100%",
      "_model_name": "FloatProgressModel",
      "bar_style": "success",
      "max": 12894,
      "_view_module": "@jupyter-widgets/controls",
      "_model_module_version": "1.5.0",
      "value": 12894,
      "_view_count": null,
      "_view_module_version": "1.5.0",
      "orientation": "horizontal",
      "min": 0,
      "description_tooltip": null,
      "_model_module": "@jupyter-widgets/controls",
      "layout": "IPY_MODEL_725df261aa584129b2571b49897fc50b"
     }
    },
    "d33d7af1b4454d0cbd3f5898c8fd35e9": {
     "model_module": "@jupyter-widgets/controls",
     "model_name": "HTMLModel",
     "state": {
      "_view_name": "HTMLView",
      "style": "IPY_MODEL_0bcebeba90a145bcbfe1cbcf6521c5ce",
      "_dom_classes": [],
      "description": "",
      "_model_name": "HTMLModel",
      "placeholder": "​",
      "_view_module": "@jupyter-widgets/controls",
      "_model_module_version": "1.5.0",
      "value": " 12894/12894 [4:59:32&lt;00:00,  1.39s/it]",
      "_view_count": null,
      "_view_module_version": "1.5.0",
      "description_tooltip": null,
      "_model_module": "@jupyter-widgets/controls",
      "layout": "IPY_MODEL_c462ccff9722471cbebf0fdc762372ac"
     }
    },
    "fff86ad7d58446ab99ca08375b84cb2c": {
     "model_module": "@jupyter-widgets/controls",
     "model_name": "ProgressStyleModel",
     "state": {
      "_view_name": "StyleView",
      "_model_name": "ProgressStyleModel",
      "description_width": "initial",
      "_view_module": "@jupyter-widgets/base",
      "_model_module_version": "1.5.0",
      "_view_count": null,
      "_view_module_version": "1.2.0",
      "bar_color": null,
      "_model_module": "@jupyter-widgets/controls"
     }
    },
    "725df261aa584129b2571b49897fc50b": {
     "model_module": "@jupyter-widgets/base",
     "model_name": "LayoutModel",
     "state": {
      "_view_name": "LayoutView",
      "grid_template_rows": null,
      "right": null,
      "justify_content": null,
      "_view_module": "@jupyter-widgets/base",
      "overflow": null,
      "_model_module_version": "1.2.0",
      "_view_count": null,
      "flex_flow": null,
      "width": null,
      "min_width": null,
      "border": null,
      "align_items": null,
      "bottom": null,
      "_model_module": "@jupyter-widgets/base",
      "top": null,
      "grid_column": null,
      "overflow_y": null,
      "overflow_x": null,
      "grid_auto_flow": null,
      "grid_area": null,
      "grid_template_columns": null,
      "flex": null,
      "_model_name": "LayoutModel",
      "justify_items": null,
      "grid_row": null,
      "max_height": null,
      "align_content": null,
      "visibility": null,
      "align_self": null,
      "height": null,
      "min_height": null,
      "padding": null,
      "grid_auto_rows": null,
      "grid_gap": null,
      "max_width": null,
      "order": null,
      "_view_module_version": "1.2.0",
      "grid_template_areas": null,
      "object_position": null,
      "object_fit": null,
      "grid_auto_columns": null,
      "margin": null,
      "display": null,
      "left": null
     }
    },
    "0bcebeba90a145bcbfe1cbcf6521c5ce": {
     "model_module": "@jupyter-widgets/controls",
     "model_name": "DescriptionStyleModel",
     "state": {
      "_view_name": "StyleView",
      "_model_name": "DescriptionStyleModel",
      "description_width": "",
      "_view_module": "@jupyter-widgets/base",
      "_model_module_version": "1.5.0",
      "_view_count": null,
      "_view_module_version": "1.2.0",
      "_model_module": "@jupyter-widgets/controls"
     }
    },
    "c462ccff9722471cbebf0fdc762372ac": {
     "model_module": "@jupyter-widgets/base",
     "model_name": "LayoutModel",
     "state": {
      "_view_name": "LayoutView",
      "grid_template_rows": null,
      "right": null,
      "justify_content": null,
      "_view_module": "@jupyter-widgets/base",
      "overflow": null,
      "_model_module_version": "1.2.0",
      "_view_count": null,
      "flex_flow": null,
      "width": null,
      "min_width": null,
      "border": null,
      "align_items": null,
      "bottom": null,
      "_model_module": "@jupyter-widgets/base",
      "top": null,
      "grid_column": null,
      "overflow_y": null,
      "overflow_x": null,
      "grid_auto_flow": null,
      "grid_area": null,
      "grid_template_columns": null,
      "flex": null,
      "_model_name": "LayoutModel",
      "justify_items": null,
      "grid_row": null,
      "max_height": null,
      "align_content": null,
      "visibility": null,
      "align_self": null,
      "height": null,
      "min_height": null,
      "padding": null,
      "grid_auto_rows": null,
      "grid_gap": null,
      "max_width": null,
      "order": null,
      "_view_module_version": "1.2.0",
      "grid_template_areas": null,
      "object_position": null,
      "object_fit": null,
      "grid_auto_columns": null,
      "margin": null,
      "display": null,
      "left": null
     }
    },
    "799b2d2c935f4c51927327da5d4b8f22": {
     "model_module": "@jupyter-widgets/controls",
     "model_name": "HBoxModel",
     "state": {
      "_view_name": "HBoxView",
      "_dom_classes": [],
      "_model_name": "HBoxModel",
      "_view_module": "@jupyter-widgets/controls",
      "_model_module_version": "1.5.0",
      "_view_count": null,
      "_view_module_version": "1.5.0",
      "box_style": "",
      "layout": "IPY_MODEL_d10722eb651e4cca8a0d917d37ecbac1",
      "_model_module": "@jupyter-widgets/controls",
      "children": [
       "IPY_MODEL_c644c065992a4a589604b3624c721af5",
       "IPY_MODEL_7d0f03d0aab343acb3c6cc1ceb905c21"
      ]
     }
    },
    "d10722eb651e4cca8a0d917d37ecbac1": {
     "model_module": "@jupyter-widgets/base",
     "model_name": "LayoutModel",
     "state": {
      "_view_name": "LayoutView",
      "grid_template_rows": null,
      "right": null,
      "justify_content": null,
      "_view_module": "@jupyter-widgets/base",
      "overflow": null,
      "_model_module_version": "1.2.0",
      "_view_count": null,
      "flex_flow": null,
      "width": null,
      "min_width": null,
      "border": null,
      "align_items": null,
      "bottom": null,
      "_model_module": "@jupyter-widgets/base",
      "top": null,
      "grid_column": null,
      "overflow_y": null,
      "overflow_x": null,
      "grid_auto_flow": null,
      "grid_area": null,
      "grid_template_columns": null,
      "flex": null,
      "_model_name": "LayoutModel",
      "justify_items": null,
      "grid_row": null,
      "max_height": null,
      "align_content": null,
      "visibility": null,
      "align_self": null,
      "height": null,
      "min_height": null,
      "padding": null,
      "grid_auto_rows": null,
      "grid_gap": null,
      "max_width": null,
      "order": null,
      "_view_module_version": "1.2.0",
      "grid_template_areas": null,
      "object_position": null,
      "object_fit": null,
      "grid_auto_columns": null,
      "margin": null,
      "display": null,
      "left": null
     }
    },
    "c644c065992a4a589604b3624c721af5": {
     "model_module": "@jupyter-widgets/controls",
     "model_name": "FloatProgressModel",
     "state": {
      "_view_name": "ProgressView",
      "style": "IPY_MODEL_616a51f5f25448918981f706dfdc633d",
      "_dom_classes": [],
      "description": "100%",
      "_model_name": "FloatProgressModel",
      "bar_style": "success",
      "max": 10,
      "_view_module": "@jupyter-widgets/controls",
      "_model_module_version": "1.5.0",
      "value": 10,
      "_view_count": null,
      "_view_module_version": "1.5.0",
      "orientation": "horizontal",
      "min": 0,
      "description_tooltip": null,
      "_model_module": "@jupyter-widgets/controls",
      "layout": "IPY_MODEL_d19527e2374042e8b27c4d7a88d9f80c"
     }
    },
    "7d0f03d0aab343acb3c6cc1ceb905c21": {
     "model_module": "@jupyter-widgets/controls",
     "model_name": "HTMLModel",
     "state": {
      "_view_name": "HTMLView",
      "style": "IPY_MODEL_e35cb8c5897f4e809791b7b5a431cf0b",
      "_dom_classes": [],
      "description": "",
      "_model_name": "HTMLModel",
      "placeholder": "​",
      "_view_module": "@jupyter-widgets/controls",
      "_model_module_version": "1.5.0",
      "value": " 10/10 [4:55:52&lt;00:00, 1775.21s/it]",
      "_view_count": null,
      "_view_module_version": "1.5.0",
      "description_tooltip": null,
      "_model_module": "@jupyter-widgets/controls",
      "layout": "IPY_MODEL_9d421197b9fa4bc8b88369f85e70f202"
     }
    },
    "616a51f5f25448918981f706dfdc633d": {
     "model_module": "@jupyter-widgets/controls",
     "model_name": "ProgressStyleModel",
     "state": {
      "_view_name": "StyleView",
      "_model_name": "ProgressStyleModel",
      "description_width": "initial",
      "_view_module": "@jupyter-widgets/base",
      "_model_module_version": "1.5.0",
      "_view_count": null,
      "_view_module_version": "1.2.0",
      "bar_color": null,
      "_model_module": "@jupyter-widgets/controls"
     }
    },
    "d19527e2374042e8b27c4d7a88d9f80c": {
     "model_module": "@jupyter-widgets/base",
     "model_name": "LayoutModel",
     "state": {
      "_view_name": "LayoutView",
      "grid_template_rows": null,
      "right": null,
      "justify_content": null,
      "_view_module": "@jupyter-widgets/base",
      "overflow": null,
      "_model_module_version": "1.2.0",
      "_view_count": null,
      "flex_flow": null,
      "width": null,
      "min_width": null,
      "border": null,
      "align_items": null,
      "bottom": null,
      "_model_module": "@jupyter-widgets/base",
      "top": null,
      "grid_column": null,
      "overflow_y": null,
      "overflow_x": null,
      "grid_auto_flow": null,
      "grid_area": null,
      "grid_template_columns": null,
      "flex": null,
      "_model_name": "LayoutModel",
      "justify_items": null,
      "grid_row": null,
      "max_height": null,
      "align_content": null,
      "visibility": null,
      "align_self": null,
      "height": null,
      "min_height": null,
      "padding": null,
      "grid_auto_rows": null,
      "grid_gap": null,
      "max_width": null,
      "order": null,
      "_view_module_version": "1.2.0",
      "grid_template_areas": null,
      "object_position": null,
      "object_fit": null,
      "grid_auto_columns": null,
      "margin": null,
      "display": null,
      "left": null
     }
    },
    "e35cb8c5897f4e809791b7b5a431cf0b": {
     "model_module": "@jupyter-widgets/controls",
     "model_name": "DescriptionStyleModel",
     "state": {
      "_view_name": "StyleView",
      "_model_name": "DescriptionStyleModel",
      "description_width": "",
      "_view_module": "@jupyter-widgets/base",
      "_model_module_version": "1.5.0",
      "_view_count": null,
      "_view_module_version": "1.2.0",
      "_model_module": "@jupyter-widgets/controls"
     }
    },
    "9d421197b9fa4bc8b88369f85e70f202": {
     "model_module": "@jupyter-widgets/base",
     "model_name": "LayoutModel",
     "state": {
      "_view_name": "LayoutView",
      "grid_template_rows": null,
      "right": null,
      "justify_content": null,
      "_view_module": "@jupyter-widgets/base",
      "overflow": null,
      "_model_module_version": "1.2.0",
      "_view_count": null,
      "flex_flow": null,
      "width": null,
      "min_width": null,
      "border": null,
      "align_items": null,
      "bottom": null,
      "_model_module": "@jupyter-widgets/base",
      "top": null,
      "grid_column": null,
      "overflow_y": null,
      "overflow_x": null,
      "grid_auto_flow": null,
      "grid_area": null,
      "grid_template_columns": null,
      "flex": null,
      "_model_name": "LayoutModel",
      "justify_items": null,
      "grid_row": null,
      "max_height": null,
      "align_content": null,
      "visibility": null,
      "align_self": null,
      "height": null,
      "min_height": null,
      "padding": null,
      "grid_auto_rows": null,
      "grid_gap": null,
      "max_width": null,
      "order": null,
      "_view_module_version": "1.2.0",
      "grid_template_areas": null,
      "object_position": null,
      "object_fit": null,
      "grid_auto_columns": null,
      "margin": null,
      "display": null,
      "left": null
     }
    },
    "3febfe06d2b94517b2bb5776fcbc592e": {
     "model_module": "@jupyter-widgets/controls",
     "model_name": "HBoxModel",
     "state": {
      "_view_name": "HBoxView",
      "_dom_classes": [],
      "_model_name": "HBoxModel",
      "_view_module": "@jupyter-widgets/controls",
      "_model_module_version": "1.5.0",
      "_view_count": null,
      "_view_module_version": "1.5.0",
      "box_style": "",
      "layout": "IPY_MODEL_ea927efb1c4c423c8007a8dc74879ca1",
      "_model_module": "@jupyter-widgets/controls",
      "children": [
       "IPY_MODEL_8cc6c8d26a3f43af83705401deefd896",
       "IPY_MODEL_958e7a54358042a3a2d3004fd86b39d2"
      ]
     }
    },
    "ea927efb1c4c423c8007a8dc74879ca1": {
     "model_module": "@jupyter-widgets/base",
     "model_name": "LayoutModel",
     "state": {
      "_view_name": "LayoutView",
      "grid_template_rows": null,
      "right": null,
      "justify_content": null,
      "_view_module": "@jupyter-widgets/base",
      "overflow": null,
      "_model_module_version": "1.2.0",
      "_view_count": null,
      "flex_flow": null,
      "width": null,
      "min_width": null,
      "border": null,
      "align_items": null,
      "bottom": null,
      "_model_module": "@jupyter-widgets/base",
      "top": null,
      "grid_column": null,
      "overflow_y": null,
      "overflow_x": null,
      "grid_auto_flow": null,
      "grid_area": null,
      "grid_template_columns": null,
      "flex": null,
      "_model_name": "LayoutModel",
      "justify_items": null,
      "grid_row": null,
      "max_height": null,
      "align_content": null,
      "visibility": null,
      "align_self": null,
      "height": null,
      "min_height": null,
      "padding": null,
      "grid_auto_rows": null,
      "grid_gap": null,
      "max_width": null,
      "order": null,
      "_view_module_version": "1.2.0",
      "grid_template_areas": null,
      "object_position": null,
      "object_fit": null,
      "grid_auto_columns": null,
      "margin": null,
      "display": null,
      "left": null
     }
    },
    "8cc6c8d26a3f43af83705401deefd896": {
     "model_module": "@jupyter-widgets/controls",
     "model_name": "FloatProgressModel",
     "state": {
      "_view_name": "ProgressView",
      "style": "IPY_MODEL_5a1102c5caf14fc3ad31843a242ea271",
      "_dom_classes": [],
      "description": "100%",
      "_model_name": "FloatProgressModel",
      "bar_style": "success",
      "max": 10,
      "_view_module": "@jupyter-widgets/controls",
      "_model_module_version": "1.5.0",
      "value": 10,
      "_view_count": null,
      "_view_module_version": "1.5.0",
      "orientation": "horizontal",
      "min": 0,
      "description_tooltip": null,
      "_model_module": "@jupyter-widgets/controls",
      "layout": "IPY_MODEL_aa9f36f92deb4fc08590452780356db5"
     }
    },
    "958e7a54358042a3a2d3004fd86b39d2": {
     "model_module": "@jupyter-widgets/controls",
     "model_name": "HTMLModel",
     "state": {
      "_view_name": "HTMLView",
      "style": "IPY_MODEL_24cd7fbcf1be4423beee46b153eeee29",
      "_dom_classes": [],
      "description": "",
      "_model_name": "HTMLModel",
      "placeholder": "​",
      "_view_module": "@jupyter-widgets/controls",
      "_model_module_version": "1.5.0",
      "value": " 10/10 [21:26&lt;00:00, 128.64s/it]",
      "_view_count": null,
      "_view_module_version": "1.5.0",
      "description_tooltip": null,
      "_model_module": "@jupyter-widgets/controls",
      "layout": "IPY_MODEL_3344e6363c4440b6a9a81fa9a2897f61"
     }
    },
    "5a1102c5caf14fc3ad31843a242ea271": {
     "model_module": "@jupyter-widgets/controls",
     "model_name": "ProgressStyleModel",
     "state": {
      "_view_name": "StyleView",
      "_model_name": "ProgressStyleModel",
      "description_width": "initial",
      "_view_module": "@jupyter-widgets/base",
      "_model_module_version": "1.5.0",
      "_view_count": null,
      "_view_module_version": "1.2.0",
      "bar_color": null,
      "_model_module": "@jupyter-widgets/controls"
     }
    },
    "aa9f36f92deb4fc08590452780356db5": {
     "model_module": "@jupyter-widgets/base",
     "model_name": "LayoutModel",
     "state": {
      "_view_name": "LayoutView",
      "grid_template_rows": null,
      "right": null,
      "justify_content": null,
      "_view_module": "@jupyter-widgets/base",
      "overflow": null,
      "_model_module_version": "1.2.0",
      "_view_count": null,
      "flex_flow": null,
      "width": null,
      "min_width": null,
      "border": null,
      "align_items": null,
      "bottom": null,
      "_model_module": "@jupyter-widgets/base",
      "top": null,
      "grid_column": null,
      "overflow_y": null,
      "overflow_x": null,
      "grid_auto_flow": null,
      "grid_area": null,
      "grid_template_columns": null,
      "flex": null,
      "_model_name": "LayoutModel",
      "justify_items": null,
      "grid_row": null,
      "max_height": null,
      "align_content": null,
      "visibility": null,
      "align_self": null,
      "height": null,
      "min_height": null,
      "padding": null,
      "grid_auto_rows": null,
      "grid_gap": null,
      "max_width": null,
      "order": null,
      "_view_module_version": "1.2.0",
      "grid_template_areas": null,
      "object_position": null,
      "object_fit": null,
      "grid_auto_columns": null,
      "margin": null,
      "display": null,
      "left": null
     }
    },
    "24cd7fbcf1be4423beee46b153eeee29": {
     "model_module": "@jupyter-widgets/controls",
     "model_name": "DescriptionStyleModel",
     "state": {
      "_view_name": "StyleView",
      "_model_name": "DescriptionStyleModel",
      "description_width": "",
      "_view_module": "@jupyter-widgets/base",
      "_model_module_version": "1.5.0",
      "_view_count": null,
      "_view_module_version": "1.2.0",
      "_model_module": "@jupyter-widgets/controls"
     }
    },
    "3344e6363c4440b6a9a81fa9a2897f61": {
     "model_module": "@jupyter-widgets/base",
     "model_name": "LayoutModel",
     "state": {
      "_view_name": "LayoutView",
      "grid_template_rows": null,
      "right": null,
      "justify_content": null,
      "_view_module": "@jupyter-widgets/base",
      "overflow": null,
      "_model_module_version": "1.2.0",
      "_view_count": null,
      "flex_flow": null,
      "width": null,
      "min_width": null,
      "border": null,
      "align_items": null,
      "bottom": null,
      "_model_module": "@jupyter-widgets/base",
      "top": null,
      "grid_column": null,
      "overflow_y": null,
      "overflow_x": null,
      "grid_auto_flow": null,
      "grid_area": null,
      "grid_template_columns": null,
      "flex": null,
      "_model_name": "LayoutModel",
      "justify_items": null,
      "grid_row": null,
      "max_height": null,
      "align_content": null,
      "visibility": null,
      "align_self": null,
      "height": null,
      "min_height": null,
      "padding": null,
      "grid_auto_rows": null,
      "grid_gap": null,
      "max_width": null,
      "order": null,
      "_view_module_version": "1.2.0",
      "grid_template_areas": null,
      "object_position": null,
      "object_fit": null,
      "grid_auto_columns": null,
      "margin": null,
      "display": null,
      "left": null
     }
    }
   }
  }
 },
 "cells": [
  {
   "cell_type": "markdown",
   "source": [
    "###Spacy Load"
   ],
   "metadata": {
    "collapsed": false
   }
  },
  {
   "cell_type": "code",
   "execution_count": null,
   "outputs": [],
   "source": [
    "!python -m spacy download en_core_web_lg"
   ],
   "metadata": {
    "collapsed": false,
    "pycharm": {
     "name": "#%%\n"
    }
   }
  },
  {
   "cell_type": "code",
   "execution_count": null,
   "outputs": [],
   "source": [
    "!pip install turicreate"
   ],
   "metadata": {
    "collapsed": false,
    "pycharm": {
     "name": "#%%\n"
    }
   }
  },
  {
   "cell_type": "markdown",
   "source": [
    "###Imports"
   ],
   "metadata": {
    "collapsed": false
   }
  },
  {
   "cell_type": "code",
   "execution_count": null,
   "outputs": [],
   "source": [
    "import re\n",
    "import matplotlib.pyplot as plt\n",
    "import spacy\n",
    "import turicreate as tc\n",
    "from tqdm.notebook import tqdm\n",
    "import matplotlib.pyplot as plt\n",
    "import numpy as np\n",
    "import pandas as pd\n",
    "import operator\n",
    "\n",
    "tqdm.pandas()\n",
    "%matplotlib inline"
   ],
   "metadata": {
    "collapsed": false,
    "pycharm": {
     "name": "#%%\n"
    }
   }
  },
  {
   "cell_type": "markdown",
   "source": [
    "#Fxp Forum Data\n",
    "[Leet](https://en.wikipedia.org/wiki/Leet) Setup"
   ],
   "metadata": {
    "collapsed": false
   }
  },
  {
   "cell_type": "code",
   "execution_count": null,
   "outputs": [],
   "source": [
    "origspace = \"abcdefghijklmnopqrstuvwxyz\"\n",
    "keyspace = \"@6(d3f9h1jklmn0pqr$7uvwxyz\""
   ],
   "metadata": {
    "collapsed": false,
    "pycharm": {
     "name": "#%%\n"
    }
   }
  },
  {
   "cell_type": "code",
   "execution_count": null,
   "outputs": [],
   "source": [
    "def encode(string):\n",
    "    str_return = \"\"\n",
    "    for word in string.split(\" \"):\n",
    "        temp = \"\"\n",
    "        for c in word:\n",
    "            if c in keyspace:\n",
    "                i = keyspace.index(c)\n",
    "                temp += origspace[i]\n",
    "            else:\n",
    "                temp += c\n",
    "        str_return += str(temp) + \" \"\n",
    "    return str_return[:-1]"
   ],
   "metadata": {
    "collapsed": false,
    "pycharm": {
     "name": "#%%\n"
    }
   }
  },
  {
   "cell_type": "code",
   "execution_count": null,
   "outputs": [],
   "source": [
    "nlp = spacy.load('en_core_web_lg')\n",
    "\n",
    "path_to_train = '/content/drive/MyDrive/Data Mining/Data sets/fxp_user.txt'\n",
    "\n",
    "fxp_users = tc.SFrame.read_csv(path_to_train, delimiter='\\t', header=False)\n",
    "fxp_users = fxp_users.rename({'X1': 'user_id', 'X2': 'user_name', 'X3': 'gender'})"
   ],
   "metadata": {
    "collapsed": false,
    "pycharm": {
     "name": "#%%\n"
    }
   }
  },
  {
   "cell_type": "markdown",
   "source": [
    "## Vector Method\n",
    "Extract different features from the username and build word vectors using spacy"
   ],
   "metadata": {
    "collapsed": false
   }
  },
  {
   "cell_type": "code",
   "execution_count": null,
   "outputs": [],
   "source": [
    "l = {'user_name': [], 'leet': [], 'gender': [], 'special_chars': [], 'is_number': [], 'vector': [], 'leet_vector': []}\n",
    "for i in tqdm(range(len(fxp_users))):\n",
    "    try:\n",
    "        row = fxp_users[i]\n",
    "        user_name = row[\"user_name\"].lower()\n",
    "        # Get the l33t format\n",
    "        leet = encode(user_name)\n",
    "        # Remove all non char characters from the user name\n",
    "        user_name = re.sub(r'[^a-z ]', '', user_name)\n",
    "        # Check is there are digits in the string\n",
    "        is_number = any(c.isdigit() for c in user_name)\n",
    "        # Check for special chars\n",
    "        special_char = row[\"user_name\"] != user_name\n",
    "        l['leet'].append(leet)\n",
    "        l['special_chars'].append(special_char)\n",
    "        l['is_number'].append(is_number)\n",
    "        l['user_name'].append(user_name)\n",
    "        l['gender'].append(row[\"gender\"])\n",
    "        # get vectors of the user_name and l33t form as additional features\n",
    "        l['vector'].append(nlp(user_name).vector)\n",
    "        l['leet_vector'].append(nlp(leet).vector)\n",
    "    except:\n",
    "        pass"
   ],
   "metadata": {
    "collapsed": false,
    "pycharm": {
     "name": "#%%\n"
    }
   }
  },
  {
   "cell_type": "code",
   "execution_count": null,
   "outputs": [],
   "source": [
    "fxp_users = tc.SFrame(l)\n",
    "fxp_users.materialize()\n",
    "# Get all females samples\n",
    "female = fxp_users[fxp_users['gender'] == 'f']"
   ],
   "metadata": {
    "collapsed": false,
    "pycharm": {
     "name": "#%%\n"
    }
   }
  },
  {
   "cell_type": "markdown",
   "source": [
    "### Boosted trees and Random Forest"
   ],
   "metadata": {
    "collapsed": false
   }
  },
  {
   "cell_type": "code",
   "execution_count": null,
   "outputs": [],
   "source": [
    "d_boosted = {}\n",
    "d_random = {}\n",
    "debug = False\n",
    "# train on 10 different splits\n",
    "for i in tqdm(range(10)):\n",
    "    # Since the set is heavily biased towards 'male' labels, get a small\n",
    "    # sample of them and train on a balanced dataset\n",
    "    male, _ = fxp_users[fxp_users['gender'] == 'm'].random_split(0.12)\n",
    "    train, test = male.append(female).shuffle().random_split(0.8)\n",
    "    x = []\n",
    "    y = []\n",
    "    y2 = []\n",
    "    boosted_trees_models = {}\n",
    "    random_forest_models = {}\n",
    "    # Each model will be trained in 3 different depths and the best model will be chosen\n",
    "    for depth in range(10, 31, 10):\n",
    "        model = tc.boosted_trees_classifier.create(train, target='gender',\n",
    "                                                   max_iterations=10, max_depth=depth, verbose=False)\n",
    "        res = model.evaluate(test)\n",
    "        y.append(res['accuracy'])\n",
    "        boosted_trees_models[depth] = (model, res)\n",
    "        model = tc.random_forest_classifier.create(train, target='gender',\n",
    "                                                   max_iterations=10, max_depth=depth, verbose=False)\n",
    "        res = model.evaluate(test)\n",
    "        x.append(depth)\n",
    "        y2.append(res['accuracy'])\n",
    "        random_forest_models[depth] = (model, res)\n",
    "    # After training for 10 times, take the best model of each classifier\n",
    "    best_boosted_depth = x[y.index(max(y))]\n",
    "    best_boosted_model = boosted_trees_models[best_boosted_depth][0]\n",
    "    best_random_depth = x[y2.index(max(y2))]\n",
    "    best_random_model = random_forest_models[best_random_depth][0]\n",
    "    d_boosted[i] = {'model': best_boosted_model, 'depth': best_boosted_depth,\n",
    "                    'accuracy': boosted_trees_models[best_boosted_depth][1].get('accuracy')}\n",
    "    d_random[i] = {'model': best_random_model, 'depth': best_random_depth,\n",
    "                   'accuracy': random_forest_models[best_random_depth][1].get('accuracy')}\n",
    "    if debug:\n",
    "        print(f\"best Boosted Trees Classifier has a depth of {best_boosted_depth} with accuracy of\"\n",
    "              f\" {boosted_trees_models[best_boosted_depth][1].get('accuracy')}\")\n",
    "        print(f\"best Random Forest Classifier has a depth of {best_random_depth} with accuracy of\"\n",
    "              f\" {random_forest_models[best_random_depth][1].get('accuracy')}\")"
   ],
   "metadata": {
    "collapsed": false,
    "pycharm": {
     "name": "#%%\n"
    }
   }
  },
  {
   "cell_type": "markdown",
   "source": [
    "Plot the classifier performance on each iteration"
   ],
   "metadata": {
    "collapsed": false
   }
  },
  {
   "cell_type": "code",
   "execution_count": null,
   "outputs": [],
   "source": [
    "x = list(range(1, 11))\n",
    "pres_boost = [boosted['accuracy'] for boosted in d_boosted.values()]\n",
    "pres_random = [random['accuracy'] for random in d_random.values()]\n",
    "plt.plot(x, pres_boost, 'go-')\n",
    "plt.plot(x, pres_random, 'bo-')\n",
    "plt.xlabel('Iteration')\n",
    "plt.ylabel('Highest accuracy')\n",
    "plt.title(\"Classifier Comparison\")\n",
    "plt.legend(['Boosted Forst', 'Random Forest'])\n",
    "plt.savefig('Classifier Comparison')\n",
    "plt.show()"
   ],
   "metadata": {
    "collapsed": false,
    "pycharm": {
     "name": "#%%\n"
    }
   }
  },
  {
   "cell_type": "markdown",
   "source": [
    "###SVM"
   ],
   "metadata": {
    "collapsed": false
   }
  },
  {
   "cell_type": "code",
   "execution_count": null,
   "outputs": [],
   "source": [
    "svm_model = tc.svm_classifier.create(train, target='gender')\n",
    "svm_res = svm_model.evaluate(test)\n",
    "print(f\"best svm model got a accuracy of {svm_res.get('accuracy')}\")"
   ],
   "metadata": {
    "collapsed": false,
    "pycharm": {
     "name": "#%%\n"
    }
   }
  },
  {
   "cell_type": "markdown",
   "source": [
    "### Choose the best classifier"
   ],
   "metadata": {
    "collapsed": false
   }
  },
  {
   "cell_type": "code",
   "execution_count": null,
   "outputs": [],
   "source": [
    "best_boosted_model = d_boosted[pres_boost.index(max(pres_boost))].get('model')\n",
    "best_random_model = d_random[pres_random.index(max(pres_random))].get('model')\n",
    "models = [best_boosted_model, best_random_model, svm_model]\n",
    "pres = [d_boosted[pres_boost.index(max(pres_boost))].get('accuracy'),\n",
    "        d_random[pres_random.index(max(pres_random))].get('accuracy'),\n",
    "        svm_res.get('accuracy')]\n",
    "names = ['boosted', 'random', 'svm']\n",
    "best_model_index = pres.index(max(pres))\n",
    "print(f\"the best model is: {names[best_model_index]} with accuracy of: {pres[best_model_index]}\")\n",
    "best_model = models[best_model_index]\n",
    "best_model.save('best_model_vector_fxp')"
   ],
   "metadata": {
    "collapsed": false,
    "pycharm": {
     "name": "#%%\n"
    }
   }
  },
  {
   "cell_type": "markdown",
   "source": [
    "Save it for later"
   ],
   "metadata": {
    "collapsed": false
   }
  },
  {
   "cell_type": "code",
   "execution_count": null,
   "outputs": [],
   "source": [
    "!zip -r \"/content/drive/MyDrive/Data Mining/Models/best_model_vector_fxp.zip\" best_model_vector_fxp/"
   ],
   "metadata": {
    "collapsed": false,
    "pycharm": {
     "name": "#%%\n"
    }
   }
  },
  {
   "cell_type": "markdown",
   "source": [
    "# Ngrams"
   ],
   "metadata": {
    "collapsed": false
   }
  },
  {
   "cell_type": "code",
   "execution_count": null,
   "outputs": [],
   "source": [
    "# build ngrams of length 1-10 chars in the user_name\n",
    "features = [f'words_{i}grams' for i in range(1, 10)]\n",
    "for i in range(1, len(features) + 1):\n",
    "    fxp_users[features[i-1]] = tc.text_analytics.count_ngrams(fxp_users['user_name'], n=i, method='character')\n",
    "fxp_users.materialize()\n",
    "fxp_users"
   ],
   "metadata": {
    "collapsed": false,
    "pycharm": {
     "name": "#%%\n"
    }
   }
  },
  {
   "cell_type": "code",
   "execution_count": null,
   "outputs": [],
   "source": [
    "#split to female\n",
    "female = fxp_users[fxp_users['gender'] == 'f']\n",
    "d_boosted = {}\n",
    "d_random = {}\n",
    "debug = False"
   ],
   "metadata": {
    "collapsed": false,
    "pycharm": {
     "name": "#%%\n"
    }
   }
  },
  {
   "cell_type": "markdown",
   "source": [
    "### Boosted trees and Random Forest"
   ],
   "metadata": {
    "collapsed": false
   }
  },
  {
   "cell_type": "code",
   "execution_count": null,
   "outputs": [],
   "source": [
    "for i in tqdm(range(10)):\n",
    "    male, _ = fxp_users[fxp_users['gender'] == 'm'].random_split(0.12)\n",
    "    train, test = male.append(female).shuffle().random_split(0.8)\n",
    "    x = []\n",
    "    y = []\n",
    "    y2 = []\n",
    "    boosted_trees_models = {}\n",
    "    random_forest_models = {}\n",
    "    for depth in range(10, 31, 10):\n",
    "        model = tc.boosted_trees_classifier.create(train, target='gender',\n",
    "                                                   features=features,\n",
    "                                                   max_iterations=10, max_depth=depth, verbose=False)\n",
    "        res = model.evaluate(test)\n",
    "        y.append(res['accuracy'])\n",
    "        boosted_trees_models[depth] = (model, res)\n",
    "        model = tc.random_forest_classifier.create(train, target='gender',\n",
    "                                                   features=features,\n",
    "                                                   max_iterations=10, max_depth=depth, verbose=False)\n",
    "        res = model.evaluate(test)\n",
    "        x.append(depth)\n",
    "        y2.append(res['accuracy'])\n",
    "        random_forest_models[depth] = (model, res)\n",
    "    best_boosted_depth = x[y.index(max(y))]\n",
    "    best_boosted_model = boosted_trees_models[best_boosted_depth][0]\n",
    "    best_random_depth = x[y2.index(max(y2))]\n",
    "    best_random_model = random_forest_models[best_random_depth][0]\n",
    "    d_boosted[i] = {'model': best_boosted_model, 'depth': best_boosted_depth,\n",
    "                    'accuracy': boosted_trees_models[best_boosted_depth][1].get('accuracy')}\n",
    "    d_random[i] = {'model': best_random_model, 'depth': best_random_depth,\n",
    "                   'accuracy': random_forest_models[best_random_depth][1].get('accuracy')}\n",
    "    if debug:\n",
    "        print(f\"best Boosted Trees Classifier has a depth of {best_boosted_depth} with accuracy of\"\n",
    "              f\" {boosted_trees_models[best_boosted_depth][1].get('accuracy')}\")\n",
    "        print(f\"best Random Forest Classifier has a depth of {best_random_depth} with accuracy of\"\n",
    "              f\" {random_forest_models[best_random_depth][1].get('accuracy')}\")"
   ],
   "metadata": {
    "collapsed": false,
    "pycharm": {
     "name": "#%%\n"
    }
   }
  },
  {
   "cell_type": "code",
   "execution_count": null,
   "outputs": [],
   "source": [
    "x = list(range(1, 11))\n",
    "pres_boost = [boosted['accuracy'] for boosted in d_boosted.values()]\n",
    "pres_random = [random['accuracy'] for random in d_random.values()]\n",
    "plt.plot(x, pres_boost, 'go-')\n",
    "plt.plot(x, pres_random, 'bo-')\n",
    "plt.xlabel('Iteration')\n",
    "plt.ylabel('Highest accuracy')\n",
    "plt.title(\"Classifier Comparison\")\n",
    "plt.legend(['Boosted Forst', 'Random Forest'])\n",
    "plt.savefig('Classifier Comparison')\n",
    "plt.show()"
   ],
   "metadata": {
    "collapsed": false,
    "pycharm": {
     "name": "#%%\n"
    }
   }
  },
  {
   "cell_type": "markdown",
   "source": [
    "### SVM"
   ],
   "metadata": {
    "collapsed": false
   }
  },
  {
   "cell_type": "code",
   "execution_count": null,
   "outputs": [],
   "source": [
    "svm_model = tc.svm_classifier.create(train, target='gender', features=features)\n",
    "svm_res = svm_model.evaluate(test)\n",
    "print(f\"best svm model got a accuracy of {svm_res.get('accuracy')}\")"
   ],
   "metadata": {
    "collapsed": false,
    "pycharm": {
     "name": "#%%\n"
    }
   }
  },
  {
   "cell_type": "markdown",
   "source": [
    "### Choose the best classifier"
   ],
   "metadata": {
    "collapsed": false
   }
  },
  {
   "cell_type": "code",
   "execution_count": null,
   "outputs": [],
   "source": [
    "best_boosted_model = d_boosted[pres_boost.index(max(pres_boost))].get('model')\n",
    "best_random_model = d_random[pres_random.index(max(pres_random))].get('model')\n",
    "models = [best_boosted_model, best_random_model, svm_model]\n",
    "pres = [d_boosted[pres_boost.index(max(pres_boost))].get('accuracy'),\n",
    "        d_random[pres_random.index(max(pres_random))].get('accuracy'),\n",
    "        svm_res.get('accuracy')]\n",
    "names = ['boosted', 'random', 'svm']\n",
    "best_model_index = pres.index(max(pres))\n",
    "print(f\"the best model is: {names[best_model_index]} with accuracy of: {pres[best_model_index]}\")\n",
    "best_model = models[best_model_index]\n",
    "best_model.save('best_model_ngram_fxp')"
   ],
   "metadata": {
    "collapsed": false,
    "pycharm": {
     "name": "#%%\n"
    }
   }
  },
  {
   "cell_type": "markdown",
   "source": [
    "Save for later use"
   ],
   "metadata": {
    "collapsed": false
   }
  },
  {
   "cell_type": "code",
   "execution_count": null,
   "outputs": [],
   "source": [
    "!zip -r \"/content/drive/MyDrive/Data Mining/Models/best_model_ngram_fxp.zip\" best_model_ngram_fxp/"
   ],
   "metadata": {
    "collapsed": false,
    "pycharm": {
     "name": "#%%\n"
    }
   }
  },
  {
   "cell_type": "markdown",
   "source": [
    "#Twitter Users"
   ],
   "metadata": {
    "collapsed": false
   }
  },
  {
   "cell_type": "code",
   "execution_count": null,
   "outputs": [],
   "source": [
    "# Load the data\n",
    "path_to_train = '/content/drive/MyDrive/Data Mining/Data sets/twitter_users.csv'\n",
    "data = pd.read_csv(path_to_train, encoding=\"latin1\")\n",
    "data = pd.concat([data.gender, data.name], axis=1)\n",
    "data.dropna(axis = 0, inplace = True) # we dropped the null rows\n",
    "# Get only the 'male', 'female' labels from the data\n",
    "dataf = data[data['gender'].isin(['male', 'female'])]\n",
    "dataf.columns = ['gender', 'user_name']\n",
    "\n",
    "twitter_users = tc.SFrame(dataf)\n",
    "twitter_users"
   ],
   "metadata": {
    "collapsed": false,
    "pycharm": {
     "name": "#%%\n"
    }
   }
  },
  {
   "cell_type": "markdown",
   "source": [
    "##Vector Method"
   ],
   "metadata": {
    "collapsed": false
   }
  },
  {
   "cell_type": "code",
   "execution_count": null,
   "outputs": [],
   "source": [
    "l = {'user_name': [], 'leet': [], 'gender': [], 'special_chars': [], 'is_number': [], 'vector': [], 'leet_vector': []}\n",
    "for i in tqdm(range(len(twitter_users))):\n",
    "    try:\n",
    "        row = twitter_users[i]\n",
    "        user_name = row[\"name\"].lower()\n",
    "        leet = encode(user_name)\n",
    "        user_name = re.sub(r'[^a-z ]', '', user_name)\n",
    "        is_number = any(c.isdigit() for c in user_name)\n",
    "        special_char = row[\"name\"] != user_name\n",
    "        l['leet'].append(leet)\n",
    "        l['special_chars'].append(special_char)\n",
    "        l['is_number'].append(is_number)\n",
    "        l['user_name'].append(user_name)\n",
    "        l['gender'].append(row[\"gender\"])\n",
    "        l['vector'].append(nlp(user_name).vector)\n",
    "        l['leet_vector'].append(nlp(leet).vector)\n",
    "    except:\n",
    "        pass"
   ],
   "metadata": {
    "collapsed": false,
    "pycharm": {
     "name": "#%%\n"
    }
   }
  },
  {
   "cell_type": "code",
   "execution_count": null,
   "outputs": [],
   "source": [
    "twitter_users = tc.SFrame(l)\n",
    "twitter_users.materialize()"
   ],
   "metadata": {
    "collapsed": false,
    "pycharm": {
     "name": "#%%\n"
    }
   }
  },
  {
   "cell_type": "markdown",
   "source": [
    "### Boosted trees and Random Forest"
   ],
   "metadata": {
    "collapsed": false
   }
  },
  {
   "cell_type": "code",
   "execution_count": null,
   "outputs": [],
   "source": [
    "d_boosted = {}\n",
    "d_random = {}\n",
    "debug = False\n",
    "for i in tqdm(range(10)):\n",
    "    train, test = twitter_users.random_split(0.8)\n",
    "    x = []\n",
    "    y = []\n",
    "    y2 = []\n",
    "    boosted_trees_models = {}\n",
    "    random_forest_models = {}\n",
    "    for depth in range(10, 31, 10):\n",
    "        model = tc.boosted_trees_classifier.create(train, target='gender',\n",
    "                                                   max_iterations=10, max_depth=depth, verbose=False)\n",
    "        res = model.evaluate(test)\n",
    "        y.append(res['accuracy'])\n",
    "        boosted_trees_models[depth] = (model, res)\n",
    "        model = tc.random_forest_classifier.create(train, target='gender',\n",
    "                                                   max_iterations=10, max_depth=depth, verbose=False)\n",
    "        res = model.evaluate(test)\n",
    "        x.append(depth)\n",
    "        y2.append(res['accuracy'])\n",
    "        random_forest_models[depth] = (model, res)\n",
    "    best_boosted_depth = x[y.index(max(y))]\n",
    "    best_boosted_model = boosted_trees_models[best_boosted_depth][0]\n",
    "    best_random_depth = x[y2.index(max(y2))]\n",
    "    best_random_model = random_forest_models[best_random_depth][0]\n",
    "    d_boosted[i] = {'model': best_boosted_model, 'depth': best_boosted_depth,\n",
    "                    'accuracy': boosted_trees_models[best_boosted_depth][1].get('accuracy')}\n",
    "    d_random[i] = {'model': best_random_model, 'depth': best_random_depth,\n",
    "                   'accuracy': random_forest_models[best_random_depth][1].get('accuracy')}\n",
    "    if debug:\n",
    "        print(f\"best Boosted Trees Classifier has a depth of {best_boosted_depth} with accuracy of\"\n",
    "              f\" {boosted_trees_models[best_boosted_depth][1].get('accuracy')}\")\n",
    "        print(f\"best Random Forest Classifier has a depth of {best_random_depth} with accuracy of\"\n",
    "              f\" {random_forest_models[best_random_depth][1].get('accuracy')}\")"
   ],
   "metadata": {
    "collapsed": false,
    "pycharm": {
     "name": "#%%\n"
    }
   }
  },
  {
   "cell_type": "code",
   "execution_count": null,
   "outputs": [],
   "source": [
    "x = list(range(1, 11))\n",
    "pres_boost = [boosted['accuracy'] for boosted in d_boosted.values()]\n",
    "pres_random = [random['accuracy'] for random in d_random.values()]\n",
    "plt.plot(x, pres_boost, 'go-')\n",
    "plt.plot(x, pres_random, 'bo-')\n",
    "plt.xlabel('Iteration')\n",
    "plt.ylabel('Highest accuracy')\n",
    "plt.title(\"Classifier Comparison\")\n",
    "plt.legend(['Boosted Forst', 'Random Forest'])\n",
    "plt.savefig('Classifier Comparison')\n",
    "plt.show()"
   ],
   "metadata": {
    "collapsed": false,
    "pycharm": {
     "name": "#%%\n"
    }
   }
  },
  {
   "cell_type": "markdown",
   "source": [
    "### SVM"
   ],
   "metadata": {
    "collapsed": false
   }
  },
  {
   "cell_type": "code",
   "execution_count": null,
   "outputs": [],
   "source": [
    "svm_model = tc.svm_classifier.create(train, target='gender')\n",
    "svm_res = svm_model.evaluate(test)\n",
    "print(f\"best svm model got a accuracy of {svm_res.get('accuracy')}\")"
   ],
   "metadata": {
    "collapsed": false,
    "pycharm": {
     "name": "#%%\n"
    }
   }
  },
  {
   "cell_type": "markdown",
   "source": [
    "### Choose the best classifier"
   ],
   "metadata": {
    "collapsed": false
   }
  },
  {
   "cell_type": "code",
   "execution_count": null,
   "outputs": [],
   "source": [
    "best_boosted_model = d_boosted[pres_boost.index(max(pres_boost))].get('model')\n",
    "best_random_model = d_random[pres_random.index(max(pres_random))].get('model')\n",
    "models = [best_boosted_model, best_random_model, svm_model]\n",
    "pres = [d_boosted[pres_boost.index(max(pres_boost))].get('accuracy'),\n",
    "        d_random[pres_random.index(max(pres_random))].get('accuracy'),\n",
    "        svm_res.get('accuracy')]\n",
    "names = ['boosted', 'random', 'svm']\n",
    "best_model_index = pres.index(max(pres))\n",
    "print(f\"the best model is: {names[best_model_index]} with accuracy of: {pres[best_model_index]}\")\n",
    "best_model = models[best_model_index]\n",
    "best_model.save('best_model_vector_twitter')"
   ],
   "metadata": {
    "collapsed": false,
    "pycharm": {
     "name": "#%%\n"
    }
   }
  },
  {
   "cell_type": "code",
   "execution_count": null,
   "outputs": [],
   "source": [
    "!zip -r \"/content/drive/MyDrive/Data Mining/Models/best_model_vector_twitter.zip\" best_model_vector_twitter/"
   ],
   "metadata": {
    "collapsed": false,
    "pycharm": {
     "name": "#%%\n"
    }
   }
  },
  {
   "cell_type": "markdown",
   "source": [
    "## NGram"
   ],
   "metadata": {
    "collapsed": false
   }
  },
  {
   "cell_type": "code",
   "execution_count": null,
   "outputs": [],
   "source": [
    "features = [f'words_{i}grams' for i in range(1, 10)]\n",
    "for i in range(1, len(features) + 1):\n",
    "    twitter_users[features[i-1]] = tc.text_analytics.count_ngrams(twitter_users['user_name'], n=i, method='character')\n",
    "twitter_users.materialize()"
   ],
   "metadata": {
    "collapsed": false,
    "pycharm": {
     "name": "#%%\n"
    }
   }
  },
  {
   "cell_type": "code",
   "execution_count": null,
   "outputs": [],
   "source": [
    "d_boosted = {}\n",
    "d_random = {}\n",
    "debug = False"
   ],
   "metadata": {
    "collapsed": false,
    "pycharm": {
     "name": "#%%\n"
    }
   }
  },
  {
   "cell_type": "markdown",
   "source": [
    "### Boosted trees and Random Forest"
   ],
   "metadata": {
    "collapsed": false
   }
  },
  {
   "cell_type": "code",
   "execution_count": null,
   "outputs": [],
   "source": [
    "for i in tqdm(range(10)):\n",
    "    train, test = twitter_users.random_split(0.8)\n",
    "    x = []\n",
    "    y = []\n",
    "    y2 = []\n",
    "    boosted_trees_models = {}\n",
    "    random_forest_models = {}\n",
    "    for depth in range(10, 31, 10):\n",
    "        model = tc.boosted_trees_classifier.create(train, target='gender',\n",
    "                                                   features=features,\n",
    "                                                   max_iterations=10, max_depth=depth, verbose=False)\n",
    "        res = model.evaluate(test)\n",
    "        y.append(res['accuracy'])\n",
    "        boosted_trees_models[depth] = (model, res)\n",
    "        model = tc.random_forest_classifier.create(train, target='gender',\n",
    "                                                   features=features,\n",
    "                                                   max_iterations=10, max_depth=depth, verbose=False)\n",
    "        res = model.evaluate(test)\n",
    "        x.append(depth)\n",
    "        y2.append(res['accuracy'])\n",
    "        random_forest_models[depth] = (model, res)\n",
    "    best_boosted_depth = x[y.index(max(y))]\n",
    "    best_boosted_model = boosted_trees_models[best_boosted_depth][0]\n",
    "    best_random_depth = x[y2.index(max(y2))]\n",
    "    best_random_model = random_forest_models[best_random_depth][0]\n",
    "    d_boosted[i] = {'model': best_boosted_model, 'depth': best_boosted_depth,\n",
    "                    'accuracy': boosted_trees_models[best_boosted_depth][1].get('accuracy')}\n",
    "    d_random[i] = {'model': best_random_model, 'depth': best_random_depth,\n",
    "                   'accuracy': random_forest_models[best_random_depth][1].get('accuracy')}\n",
    "    if debug:\n",
    "        print(f\"best Boosted Trees Classifier has a depth of {best_boosted_depth} with accuracy of\"\n",
    "              f\" {boosted_trees_models[best_boosted_depth][1].get('accuracy')}\")\n",
    "        print(f\"best Random Forest Classifier has a depth of {best_random_depth} with accuracy of\"\n",
    "              f\" {random_forest_models[best_random_depth][1].get('accuracy')}\")"
   ],
   "metadata": {
    "collapsed": false,
    "pycharm": {
     "name": "#%%\n"
    }
   }
  },
  {
   "cell_type": "code",
   "execution_count": null,
   "outputs": [],
   "source": [
    "x = list(range(1, 11))\n",
    "pres_boost = [boosted['accuracy'] for boosted in d_boosted.values()]\n",
    "pres_random = [random['accuracy'] for random in d_random.values()]\n",
    "plt.plot(x, pres_boost, 'go-')\n",
    "plt.plot(x, pres_random, 'bo-')\n",
    "plt.xlabel('Iteration')\n",
    "plt.ylabel('Highest accuracy')\n",
    "plt.title(\"Classifier Comparison\")\n",
    "plt.legend(['Boosted Forst', 'Random Forest'])\n",
    "plt.savefig('Classifier Comparison')\n",
    "plt.show()"
   ],
   "metadata": {
    "collapsed": false,
    "pycharm": {
     "name": "#%%\n"
    }
   }
  },
  {
   "cell_type": "markdown",
   "source": [
    "### SVM"
   ],
   "metadata": {
    "collapsed": false
   }
  },
  {
   "cell_type": "code",
   "execution_count": null,
   "outputs": [],
   "source": [
    "svm_model = tc.svm_classifier.create(train, target='gender', features=features)\n",
    "svm_res = svm_model.evaluate(test)\n",
    "print(f\"best svm model got a accuracy of {svm_res.get('accuracy')}\")"
   ],
   "metadata": {
    "collapsed": false,
    "pycharm": {
     "name": "#%%\n"
    }
   }
  },
  {
   "cell_type": "markdown",
   "source": [
    "NN"
   ],
   "metadata": {
    "collapsed": false
   }
  },
  {
   "cell_type": "code",
   "execution_count": null,
   "outputs": [],
   "source": [
    "nn_model = tc.nearest_neighbor_classifier.create(train, target='gender', features=features, distance='auto')\n",
    "nn_res = nn_model.evaluate(test)\n",
    "print(f\"best nn model got a accuracy of {nn_res.get('accuracy')}\")"
   ],
   "metadata": {
    "collapsed": false,
    "pycharm": {
     "name": "#%%\n"
    }
   }
  },
  {
   "cell_type": "markdown",
   "source": [
    "### Choose the best classifier"
   ],
   "metadata": {
    "collapsed": false
   }
  },
  {
   "cell_type": "code",
   "execution_count": null,
   "outputs": [],
   "source": [
    "best_boosted_model = d_boosted[pres_boost.index(max(pres_boost))].get('model')\n",
    "best_random_model = d_random[pres_random.index(max(pres_random))].get('model')\n",
    "models = [best_boosted_model, best_random_model, svm_model, nn_model]\n",
    "pres = [d_boosted[pres_boost.index(max(pres_boost))].get('accuracy'),\n",
    "        d_random[pres_random.index(max(pres_random))].get('accuracy'),\n",
    "        svm_res.get('accuracy'), nn_res.get('accuracy')]\n",
    "names = ['boosted', 'random', 'svm', 'nn']\n",
    "best_model_index = pres.index(max(pres))\n",
    "print(f\"the best model is: {names[best_model_index]} with accuracy of: {pres[best_model_index]}\")\n",
    "best_model = models[best_model_index]\n",
    "best_model.save('best_model_ngram_twitter')"
   ],
   "metadata": {
    "collapsed": false,
    "pycharm": {
     "name": "#%%\n"
    }
   }
  },
  {
   "cell_type": "code",
   "execution_count": null,
   "outputs": [],
   "source": [
    "!zip -r \"/content/drive/MyDrive/Data Mining/Models/best_model_ngram_twitter.zip\" best_model_ngram_twitter/"
   ],
   "metadata": {
    "collapsed": false,
    "pycharm": {
     "name": "#%%\n"
    }
   }
  },
  {
   "cell_type": "markdown",
   "source": [
    "#Labeled users using names dict\n",
    "Ngram"
   ],
   "metadata": {
    "collapsed": false
   }
  },
  {
   "cell_type": "code",
   "execution_count": null,
   "outputs": [],
   "source": [
    "from turicreate import aggregate as agg\n",
    "data = pd.read_csv('/content/drive/MyDrive/Data Mining/Data sets/training_data.csv', encoding=\"latin1\")\n",
    "data.columns = ['user_name', 'gender']\n",
    "dict_users = tc.SFrame(data)\n",
    "dict_users.groupby(key_column_names='gender',operations={'count': agg.COUNT()}) #we are ok here"
   ],
   "metadata": {
    "collapsed": false,
    "pycharm": {
     "name": "#%%\n"
    }
   }
  },
  {
   "cell_type": "markdown",
   "source": [
    "### Features Extraction"
   ],
   "metadata": {
    "collapsed": false
   }
  },
  {
   "cell_type": "code",
   "execution_count": null,
   "outputs": [],
   "source": [
    "features = [f'words_{i}grams' for i in range(1, 10)]\n",
    "for i in range(1, len(features) + 1):\n",
    "    dict_users[features[i-1]] = tc.text_analytics.count_ngrams(dict_users['user_name'], n=i, method='character')"
   ],
   "metadata": {
    "collapsed": false,
    "pycharm": {
     "name": "#%%\n"
    }
   }
  },
  {
   "cell_type": "markdown",
   "source": [
    "### Boosted trees"
   ],
   "metadata": {
    "collapsed": false
   }
  },
  {
   "cell_type": "code",
   "execution_count": null,
   "outputs": [],
   "source": [
    "train, test = dict_users.random_split(0.8)\n",
    "boosted_model = tc.boosted_trees_classifier.create(train,features=features, target=\"gender\")\n",
    "boosted_res = boosted_model.evaluate(test)\n",
    "print(f\"best boosted model got a accuracy of {boosted_res.get('accuracy')}\")"
   ],
   "metadata": {
    "collapsed": false,
    "pycharm": {
     "name": "#%%\n"
    }
   }
  },
  {
   "cell_type": "markdown",
   "source": [
    "### Random Forest"
   ],
   "metadata": {
    "collapsed": false
   }
  },
  {
   "cell_type": "code",
   "execution_count": null,
   "outputs": [],
   "source": [
    "random_model = tc.random_forest_classifier.create(train,features=features, target=\"gender\")\n",
    "random_res = boosted_model.evaluate(test)\n",
    "print(f\"best random model got a accuracy of {random_res.get('accuracy')}\")"
   ],
   "metadata": {
    "collapsed": false,
    "pycharm": {
     "name": "#%%\n"
    }
   }
  },
  {
   "cell_type": "markdown",
   "source": [
    "### SVM"
   ],
   "metadata": {
    "collapsed": false
   }
  },
  {
   "cell_type": "code",
   "execution_count": null,
   "outputs": [],
   "source": [
    "svm_model = tc.svm_classifier.create(train, target='gender', features=features)\n",
    "svm_res = svm_model.evaluate(test)\n",
    "print(f\"best svm model got a accuracy of {svm_res.get('accuracy')}\")"
   ],
   "metadata": {
    "collapsed": false,
    "pycharm": {
     "name": "#%%\n"
    }
   }
  },
  {
   "cell_type": "markdown",
   "source": [
    "### Choose the best classifier"
   ],
   "metadata": {
    "collapsed": false
   }
  },
  {
   "cell_type": "code",
   "execution_count": null,
   "outputs": [],
   "source": [
    "models = [boosted_model, random_model, svm_model]\n",
    "pres = [boosted_res.get('accuracy'),\n",
    "        random_res.get('accuracy'),\n",
    "        svm_res.get('accuracy')]\n",
    "names = ['boosted', 'random', 'svm']\n",
    "best_model_index = pres.index(max(pres))\n",
    "print(f\"the best model is: {names[best_model_index]} with accuracy of: {pres[best_model_index]}\")\n",
    "best_model = models[best_model_index]\n",
    "best_model.save('best_model_ngram_train')"
   ],
   "metadata": {
    "collapsed": false,
    "pycharm": {
     "name": "#%%\n"
    }
   }
  },
  {
   "cell_type": "code",
   "execution_count": null,
   "outputs": [],
   "source": [
    "!zip -r \"/content/drive/MyDrive/Data Mining/Models/best_model_ngram_train.zip\" best_model_ngram_train/"
   ],
   "metadata": {
    "collapsed": false,
    "pycharm": {
     "name": "#%%\n"
    }
   }
  },
  {
   "cell_type": "markdown",
   "source": [
    "# Ensemble\n",
    "Get All 3 Best Models"
   ],
   "metadata": {
    "collapsed": false
   }
  },
  {
   "cell_type": "code",
   "execution_count": null,
   "outputs": [],
   "source": [
    "from google.colab import drive\n",
    "drive.mount('/content/drive')"
   ],
   "metadata": {
    "collapsed": false,
    "pycharm": {
     "name": "#%%\n"
    }
   }
  },
  {
   "cell_type": "code",
   "execution_count": null,
   "outputs": [],
   "source": [
    "!cp \"/content/drive/MyDrive/Data Mining/Models/best_model_ngram_train.zip\" best_model_ngram_train.zip\n",
    "!cp '/content/drive/MyDrive/Data Mining/Models/best_model_ngram_fxp.zip' best_model_ngram_fxp.zip\n",
    "!cp '/content/drive/MyDrive/Data Mining/Models/best_model_ngram_twitter.zip' best_model_ngram_twitter.zip\n",
    "!unzip -q best_model_ngram_train.zip\n",
    "!unzip -q best_model_ngram_fxp.zip\n",
    "!unzip -q best_model_ngram_twitter.zip"
   ],
   "metadata": {
    "collapsed": false,
    "pycharm": {
     "name": "#%%\n"
    }
   }
  },
  {
   "cell_type": "markdown",
   "source": [
    "### Load The models"
   ],
   "metadata": {
    "collapsed": false
   }
  },
  {
   "cell_type": "code",
   "execution_count": null,
   "outputs": [],
   "source": [
    "twitter_model = tc.load_model('best_model_ngram_twitter')\n",
    "fxp_model = tc.load_model('best_model_ngram_fxp/')\n",
    "train_model = tc.load_model('best_model_ngram_train/')"
   ],
   "metadata": {
    "collapsed": false,
    "pycharm": {
     "name": "#%%\n"
    }
   }
  },
  {
   "cell_type": "markdown",
   "source": [
    "### Load Data and extract features"
   ],
   "metadata": {
    "collapsed": false
   }
  },
  {
   "cell_type": "code",
   "execution_count": null,
   "outputs": [],
   "source": [
    "full_data = pd.read_csv('/content/drive/MyDrive/Data Mining/email_list_modified.csv')\n",
    "# training data was already predicted upon\n",
    "training_data = pd.read_csv('/content/drive/MyDrive/Data Mining/Data sets/training_data.csv', encoding='ISO-8859-1')\n",
    "features = [f'words_{i}grams' for i in range(1, 10)]\n",
    "temp_st = tc.SFrame(full_data['username'].map(str))\n",
    "for i in range(1, len(features) + 1):\n",
    "    temp_st[features[i - 1]] = tc.text_analytics.count_ngrams(temp_st['X1'], n=i, method='character')"
   ],
   "metadata": {
    "collapsed": false,
    "pycharm": {
     "name": "#%%\n"
    }
   }
  },
  {
   "cell_type": "markdown",
   "source": [
    "### Predict "
   ],
   "metadata": {
    "collapsed": false
   }
  },
  {
   "cell_type": "code",
   "execution_count": null,
   "outputs": [],
   "source": [
    "full_data['fxp_predict'] = fxp_model.predict(temp_st[features])\n",
    "full_data['twitter_predict'] = twitter_model.predict(temp_st[features])\n",
    "full_data['train_predict'] = train_model.predict(temp_st[features])"
   ],
   "metadata": {
    "collapsed": false,
    "pycharm": {
     "name": "#%%\n"
    }
   }
  },
  {
   "cell_type": "markdown",
   "source": [
    "### make all outputs the same"
   ],
   "metadata": {
    "collapsed": false
   }
  },
  {
   "cell_type": "code",
   "execution_count": null,
   "outputs": [],
   "source": [
    "full_data['gender'] = full_data['gender_by_dict'].apply(lambda g: 'male' if g[0].lower() == 'm' else 'female' if g[0].lower() == 'f' else 'unknown')\n",
    "full_data['fxp_predict'] = full_data['fxp_predict'].apply(lambda g: 'male' if g[0].lower() == 'm' else 'female')\n",
    "full_data['twitter_predict'] = full_data['twitter_predict'].apply(lambda g: 'male' if g[0].lower() == 'm' else 'female')\n",
    "full_data['train_predict'] = full_data['train_predict'].apply(lambda g: 'male' if g[0].lower() == 'm' else 'female')\n",
    "training_data['gender'] = training_data['gender'].apply(lambda g: 'male' if g[0].lower() == 'm' else 'female' if g[0].lower() == 'f' else 'unknown')\n",
    "training_data['fxp_predict'] = training_data['fxp_predict'].apply(lambda g: 'male' if g[0].lower() == 'm' else 'female')\n",
    "training_data['twitter_predict'] = training_data['twitter_predict'].apply(lambda g: 'male' if g[0].lower() == 'm' else 'female')\n",
    "training_data['train_predict'] = training_data['train_predict'].apply(lambda g: 'male' if g[0].lower() == 'm' else 'female')"
   ],
   "metadata": {
    "collapsed": false,
    "pycharm": {
     "name": "#%%\n"
    }
   }
  },
  {
   "cell_type": "markdown",
   "source": [
    "Ensemble Majority Vote"
   ],
   "metadata": {
    "collapsed": false
   }
  },
  {
   "cell_type": "code",
   "execution_count": null,
   "outputs": [],
   "source": [
    "def ensemble_label(row):\n",
    "  d = {'male': 0, 'female': 0}\n",
    "  d[row['fxp_predict']] += 1\n",
    "  d[row['twitter_predict']] += 1\n",
    "  d[row['train_predict']] += 1\n",
    "  return max(d.items(), key=operator.itemgetter(1))[0]"
   ],
   "metadata": {
    "collapsed": false,
    "pycharm": {
     "name": "#%%\n"
    }
   }
  },
  {
   "cell_type": "code",
   "execution_count": null,
   "outputs": [],
   "source": [
    "full_data['ensemble_label'] = full_data.apply(ensemble_label, axis=1)\n",
    "training_data['ensemble_label'] = training_data.apply(ensemble_label, axis=1)"
   ],
   "metadata": {
    "collapsed": false,
    "pycharm": {
     "name": "#%%\n"
    }
   }
  },
  {
   "cell_type": "markdown",
   "source": [
    "# Test the ensemble learning\n",
    "## Test on each classifier"
   ],
   "metadata": {
    "collapsed": false
   }
  },
  {
   "cell_type": "code",
   "execution_count": null,
   "outputs": [],
   "source": [
    "from sklearn.metrics import confusion_matrix\n",
    "from sklearn.metrics import accuracy_score\n",
    "labels = ['male', 'female']"
   ],
   "metadata": {
    "collapsed": false,
    "pycharm": {
     "name": "#%%\n"
    }
   }
  },
  {
   "cell_type": "markdown",
   "source": [
    "### FXP classifier Confusion matrix"
   ],
   "metadata": {
    "collapsed": false
   }
  },
  {
   "cell_type": "code",
   "execution_count": null,
   "outputs": [],
   "source": [
    "y_true = list(training_data['gender'])\n",
    "y_pred = list(training_data['fxp_predict'])\n",
    "cm = confusion_matrix(y_true, y_pred, labels)\n",
    "fig = plt.figure()\n",
    "ax = fig.add_subplot(111)\n",
    "cax = ax.matshow(cm)\n",
    "plt.title('Confusion matrix of the classifier')\n",
    "fig.colorbar(cax)\n",
    "ax.set_xticklabels([''] + labels)\n",
    "ax.set_yticklabels([''] + labels)\n",
    "plt.xlabel('Predicted')\n",
    "plt.ylabel('True')\n",
    "plt.show()\n",
    "print(f'The accuracy of the classifier train of FXP is: {accuracy_score(y_true, y_pred)}')"
   ],
   "metadata": {
    "collapsed": false,
    "pycharm": {
     "name": "#%%\n"
    }
   }
  },
  {
   "cell_type": "markdown",
   "source": [
    "### Twitter classifier Confusion matrix"
   ],
   "metadata": {
    "collapsed": false
   }
  },
  {
   "cell_type": "code",
   "execution_count": null,
   "outputs": [],
   "source": [
    "y_true = list(training_data['gender'])\n",
    "y_pred = list(training_data['twitter_predict'])\n",
    "cm = confusion_matrix(y_true, y_pred, labels)\n",
    "fig = plt.figure()\n",
    "ax = fig.add_subplot(111)\n",
    "cax = ax.matshow(cm)\n",
    "plt.title('Confusion matrix of the classifier')\n",
    "fig.colorbar(cax)\n",
    "ax.set_xticklabels([''] + labels)\n",
    "ax.set_yticklabels([''] + labels)\n",
    "plt.xlabel('Predicted')\n",
    "plt.ylabel('True')\n",
    "plt.show()\n",
    "print(f'The accuracy of the classifier train of Twitter is: {accuracy_score(y_true, y_pred)}')"
   ],
   "metadata": {
    "collapsed": false,
    "pycharm": {
     "name": "#%%\n"
    }
   }
  },
  {
   "cell_type": "markdown",
   "source": [
    "### ensemble classifier Confusion matrix"
   ],
   "metadata": {
    "collapsed": false
   }
  },
  {
   "cell_type": "code",
   "execution_count": null,
   "outputs": [],
   "source": [
    "y_true = list(training_data['gender'])\n",
    "y_pred = list(training_data['ensemble_label'])\n",
    "cm = confusion_matrix(y_true, y_pred, labels)\n",
    "fig = plt.figure()\n",
    "ax = fig.add_subplot(111)\n",
    "cax = ax.matshow(cm)\n",
    "plt.title('Confusion matrix of the classifier')\n",
    "fig.colorbar(cax)\n",
    "ax.set_xticklabels([''] + labels)\n",
    "ax.set_yticklabels([''] + labels)\n",
    "plt.xlabel('Predicted')\n",
    "plt.ylabel('True')\n",
    "plt.show()\n",
    "print(f'The accuracy of the classifier train of ensemble is: {accuracy_score(y_true, y_pred)}')"
   ],
   "metadata": {
    "collapsed": false,
    "pycharm": {
     "name": "#%%\n"
    }
   }
  },
  {
   "cell_type": "markdown",
   "source": [
    "#Okcupid user Name Set\n",
    "###Load the data"
   ],
   "metadata": {
    "collapsed": false
   }
  },
  {
   "cell_type": "code",
   "execution_count": null,
   "outputs": [],
   "source": [
    "okcupid_usernames = pd.read_csv('/content/drive/MyDrive/Data Mining/Data sets/okcupid_usernames.csv')\n",
    "okcupid_usernames.columns = ['name', 'gender']\n",
    "okcupid_usernames['gender'] = okcupid_usernames['gender'].apply(lambda gender: 'male' if gender == ' guy' else 'female')\n",
    "okcupid_usernames['name'] = okcupid_usernames['name'].apply(lambda name: name.replace('-', ''))"
   ],
   "metadata": {
    "collapsed": false,
    "pycharm": {
     "name": "#%%\n"
    }
   }
  },
  {
   "cell_type": "markdown",
   "source": [
    "### Extrct Features"
   ],
   "metadata": {
    "collapsed": false
   }
  },
  {
   "cell_type": "code",
   "execution_count": null,
   "outputs": [],
   "source": [
    "features = [f'words_{i}grams' for i in range(1, 10)]\n",
    "temp_st = tc.SFrame(okcupid_usernames['name'].map(str))\n",
    "for i in range(1, len(features) + 1):\n",
    "    temp_st[features[i - 1]] = tc.text_analytics.count_ngrams(temp_st['X1'], n=i, method='character')"
   ],
   "metadata": {
    "collapsed": false,
    "pycharm": {
     "name": "#%%\n"
    }
   }
  },
  {
   "cell_type": "markdown",
   "source": [
    "### Predict with each model"
   ],
   "metadata": {
    "collapsed": false
   }
  },
  {
   "cell_type": "code",
   "execution_count": null,
   "outputs": [],
   "source": [
    "okcupid_usernames['fxp_predict'] = fxp_model.predict(temp_st[features])\n",
    "okcupid_usernames['twitter_predict'] = twitter_model.predict(temp_st[features])\n",
    "okcupid_usernames['train_predict'] = train_model.predict(temp_st[features])"
   ],
   "metadata": {
    "collapsed": false,
    "pycharm": {
     "name": "#%%\n"
    }
   }
  },
  {
   "cell_type": "markdown",
   "source": [
    "### Make the labels the same"
   ],
   "metadata": {
    "collapsed": false
   }
  },
  {
   "cell_type": "code",
   "execution_count": null,
   "outputs": [],
   "source": [
    "okcupid_usernames['fxp_predict'] = okcupid_usernames['fxp_predict'].apply(lambda g: 'male' if g[0].lower() == 'm' else 'female')\n",
    "okcupid_usernames['twitter_predict'] = okcupid_usernames['twitter_predict'].apply(lambda g: 'male' if g[0].lower() == 'm' else 'female')\n",
    "okcupid_usernames['train_predict'] = okcupid_usernames['train_predict'].apply(lambda g: 'male' if g[0].lower() == 'm' else 'female')"
   ],
   "metadata": {
    "collapsed": false,
    "pycharm": {
     "name": "#%%\n"
    }
   }
  },
  {
   "cell_type": "markdown",
   "source": [
    "### Ensemble"
   ],
   "metadata": {
    "collapsed": false
   }
  },
  {
   "cell_type": "code",
   "execution_count": null,
   "outputs": [],
   "source": [
    "okcupid_usernames['ensemble_label'] = okcupid_usernames.apply(ensemble_label, axis=1)"
   ],
   "metadata": {
    "collapsed": false,
    "pycharm": {
     "name": "#%%\n"
    }
   }
  },
  {
   "cell_type": "markdown",
   "source": [
    "### FXP classifier Confusion matrix"
   ],
   "metadata": {
    "collapsed": false
   }
  },
  {
   "cell_type": "code",
   "execution_count": null,
   "outputs": [],
   "source": [
    "y_true = list(okcupid_usernames['gender'])\n",
    "y_pred = list(okcupid_usernames['fxp_predict'])\n",
    "cm = confusion_matrix(y_true, y_pred, labels)\n",
    "fig = plt.figure()\n",
    "ax = fig.add_subplot(111)\n",
    "cax = ax.matshow(cm)\n",
    "plt.title('Confusion matrix of the classifier')\n",
    "fig.colorbar(cax)\n",
    "ax.set_xticklabels([''] + labels)\n",
    "ax.set_yticklabels([''] + labels)\n",
    "plt.xlabel('Predicted')\n",
    "plt.ylabel('True')\n",
    "plt.show()\n",
    "print(f'The accuracy of the classifier train of FXP is: {accuracy_score(y_true, y_pred)}')"
   ],
   "metadata": {
    "collapsed": false,
    "pycharm": {
     "name": "#%%\n"
    }
   }
  },
  {
   "cell_type": "markdown",
   "source": [
    "### Twitter classifier Confusion matrix"
   ],
   "metadata": {
    "collapsed": false
   }
  },
  {
   "cell_type": "code",
   "execution_count": null,
   "outputs": [],
   "source": [
    "y_true = list(okcupid_usernames['gender'])\n",
    "y_pred = list(okcupid_usernames['twitter_predict'])\n",
    "cm = confusion_matrix(y_true, y_pred, labels)\n",
    "fig = plt.figure()\n",
    "ax = fig.add_subplot(111)\n",
    "cax = ax.matshow(cm)\n",
    "plt.title('Confusion matrix of the classifier')\n",
    "fig.colorbar(cax)\n",
    "ax.set_xticklabels([''] + labels)\n",
    "ax.set_yticklabels([''] + labels)\n",
    "plt.xlabel('Predicted')\n",
    "plt.ylabel('True')\n",
    "plt.show()\n",
    "print(f'The accuracy of the classifier train of Twitter is: {accuracy_score(y_true, y_pred)}')"
   ],
   "metadata": {
    "collapsed": false,
    "pycharm": {
     "name": "#%%\n"
    }
   }
  },
  {
   "cell_type": "markdown",
   "source": [
    "### user-gender classifier Confusion matrix"
   ],
   "metadata": {
    "collapsed": false
   }
  },
  {
   "cell_type": "code",
   "execution_count": null,
   "outputs": [],
   "source": [
    "y_true = list(okcupid_usernames['gender'])\n",
    "y_pred = list(okcupid_usernames['train_predict'])\n",
    "cm = confusion_matrix(y_true, y_pred, labels)\n",
    "fig = plt.figure()\n",
    "ax = fig.add_subplot(111)\n",
    "cax = ax.matshow(cm)\n",
    "plt.title('Confusion matrix of the classifier')\n",
    "fig.colorbar(cax)\n",
    "ax.set_xticklabels([''] + labels)\n",
    "ax.set_yticklabels([''] + labels)\n",
    "plt.xlabel('Predicted')\n",
    "plt.ylabel('True')\n",
    "plt.show()\n",
    "print(f'The accuracy of the classifier train of names dict is: {accuracy_score(y_true, y_pred)}')"
   ],
   "metadata": {
    "collapsed": false,
    "pycharm": {
     "name": "#%%\n"
    }
   }
  },
  {
   "cell_type": "markdown",
   "source": [
    "### ensemble classifier Confusion matrix"
   ],
   "metadata": {
    "collapsed": false
   }
  },
  {
   "cell_type": "code",
   "execution_count": null,
   "outputs": [],
   "source": [
    "y_true = list(okcupid_usernames['gender'])\n",
    "y_pred = list(okcupid_usernames['ensemble_label'])\n",
    "cm = confusion_matrix(y_true, y_pred, labels)\n",
    "fig = plt.figure()\n",
    "ax = fig.add_subplot(111)\n",
    "cax = ax.matshow(cm)\n",
    "plt.title('Confusion matrix of the classifier')\n",
    "fig.colorbar(cax)\n",
    "ax.set_xticklabels([''] + labels)\n",
    "ax.set_yticklabels([''] + labels)\n",
    "plt.xlabel('Predicted')\n",
    "plt.ylabel('True')\n",
    "plt.show()\n",
    "print(f'The accuracy of the classifier train of ensemble is: {accuracy_score(y_true, y_pred)}')"
   ],
   "metadata": {
    "collapsed": false,
    "pycharm": {
     "name": "#%%\n"
    }
   }
  },
  {
   "cell_type": "code",
   "execution_count": null,
   "outputs": [],
   "source": [
    "full_data.to_csv('/content/drive/MyDrive/Data Mining/full_data_tagged.csv')"
   ],
   "metadata": {
    "collapsed": false,
    "pycharm": {
     "name": "#%%\n"
    }
   }
  },
  {
   "cell_type": "code",
   "execution_count": null,
   "outputs": [],
   "source": [
    "full_data['label'] = full_data.apply(lambda row: row['gender'] if row['gender'] != 'unknown' else row['ensemble_label'], axis=1)\n",
    "full_data[['username', 'gender', 'ensemble_label', 'label']]"
   ],
   "metadata": {
    "collapsed": false,
    "pycharm": {
     "name": "#%%\n"
    }
   }
  },
  {
   "cell_type": "code",
   "execution_count": null,
   "outputs": [],
   "source": [
    "full_data.to_csv('/content/drive/MyDrive/Data Mining/full_data_labeled.csv')"
   ],
   "metadata": {
    "collapsed": false,
    "pycharm": {
     "name": "#%%\n"
    }
   }
  }
 ]
}