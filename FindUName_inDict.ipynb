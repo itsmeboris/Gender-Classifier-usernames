{
  "nbformat": 4,
  "nbformat_minor": 0,
  "metadata": {
    "colab": {
      "name": "FindUName inDict.ipynb",
      "provenance": []
    },
    "kernelspec": {
      "name": "python3",
      "display_name": "Python 3"
    },
    "language_info": {
      "name": "python"
    }
  },
  "cells": [
    {
      "cell_type": "code",
      "metadata": {
        "id": "r5Pj9QjTdx1V"
      },
      "source": [
        "import numpy as np\n",
        "from tqdm import tqdm\n",
        "tqdm.pandas()\n",
        "names_dict = np.load('/content/drive/MyDrive/BigData/Project/names_dict.npy',allow_pickle=True).item()\n",
        "\n",
        "def get_gender_from_dic_ext(x):\n",
        "  max_len_f = \"\"\n",
        "  max_len_m = \"\"\n",
        "  count_m = 0\n",
        "  count_f = 0\n",
        "  seper = \"-.,_\"\n",
        "  if not any([c in x for c in seper]):\n",
        "    return 'unknown',\"\"\n",
        "  for name in names_dict:\n",
        "    if name.lower() in x.lower():\n",
        "      gender = names_dict[name]\n",
        "      if (gender == \"Female\"):\n",
        "        count_f +=1\n",
        "        if (len(name) > len(max_len_f) ):\n",
        "          max_len_f = name\n",
        "      if (gender == \"Male\"):\n",
        "        count_m +=1\n",
        "        if (len(name) > len(max_len_m) ):\n",
        "          max_len_m = name\n",
        "  if (count_m > count_f):\n",
        "    return \"Male\",max_len_m\n",
        "  elif (count_f > count_m):\n",
        "    return \"Female\",max_len_f\n",
        "  elif (len(max_len_m) > len(max_len_f)):\n",
        "    return \"Male\",max_len_m\n",
        "  elif (len(max_len_f) > len(max_len_m)):\n",
        "    return \"Female\",max_len_f\n",
        "  return \"unknown\",\"\"\n",
        "\n",
        "emailpass170k = \"/content/drive/MyDrive/Data Mining/emailpass170k_NIST_metrics.csv\" #ok\n",
        "df = pd.read_csv(emailpass170k,nrows=1000)\n",
        "a = df['username'].progress_apply(get_gender_from_dic_ext)\n",
        "a\n",
        "genders=[]\n",
        "names=[]\n",
        "for gender,name in a:\n",
        "  genders.append(gender)\n",
        "  names.append(name)\n",
        "df['gender_by_dict_ext'] = genders\n",
        "df['chosen_name'] = names"
      ],
      "execution_count": null,
      "outputs": []
    }
  ]
}